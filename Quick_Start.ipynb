{
  "nbformat": 4,
  "nbformat_minor": 0,
  "metadata": {
    "colab": {
      "provenance": [],
      "toc_visible": true
    },
    "kernelspec": {
      "name": "python3",
      "display_name": "Python 3"
    },
    "language_info": {
      "name": "python"
    },
    "widgets": {
      "application/vnd.jupyter.widget-state+json": {
        "751944a37a6a4e7388ba7e6e72ed2cd1": {
          "model_module": "@jupyter-widgets/controls",
          "model_name": "HBoxModel",
          "model_module_version": "1.5.0",
          "state": {
            "_dom_classes": [],
            "_model_module": "@jupyter-widgets/controls",
            "_model_module_version": "1.5.0",
            "_model_name": "HBoxModel",
            "_view_count": null,
            "_view_module": "@jupyter-widgets/controls",
            "_view_module_version": "1.5.0",
            "_view_name": "HBoxView",
            "box_style": "",
            "children": [
              "IPY_MODEL_e0826360a3464b19b80c80ae52daf2e7",
              "IPY_MODEL_89595d06fa704b82aa5017a27cb8c5f0",
              "IPY_MODEL_44a67d23b2df40129f0d0b483fa06d82"
            ],
            "layout": "IPY_MODEL_b74ba13d663244f38f8108e35c29ec46"
          }
        },
        "e0826360a3464b19b80c80ae52daf2e7": {
          "model_module": "@jupyter-widgets/controls",
          "model_name": "HTMLModel",
          "model_module_version": "1.5.0",
          "state": {
            "_dom_classes": [],
            "_model_module": "@jupyter-widgets/controls",
            "_model_module_version": "1.5.0",
            "_model_name": "HTMLModel",
            "_view_count": null,
            "_view_module": "@jupyter-widgets/controls",
            "_view_module_version": "1.5.0",
            "_view_name": "HTMLView",
            "description": "",
            "description_tooltip": null,
            "layout": "IPY_MODEL_1a6ca3412d164d2baddd7e375df192df",
            "placeholder": "​",
            "style": "IPY_MODEL_f97a8cc6116e45f9a632ec1d51f12eef",
            "value": "Running body_fun: 100%"
          }
        },
        "89595d06fa704b82aa5017a27cb8c5f0": {
          "model_module": "@jupyter-widgets/controls",
          "model_name": "FloatProgressModel",
          "model_module_version": "1.5.0",
          "state": {
            "_dom_classes": [],
            "_model_module": "@jupyter-widgets/controls",
            "_model_module_version": "1.5.0",
            "_model_name": "FloatProgressModel",
            "_view_count": null,
            "_view_module": "@jupyter-widgets/controls",
            "_view_module_version": "1.5.0",
            "_view_name": "ProgressView",
            "bar_style": "success",
            "description": "",
            "description_tooltip": null,
            "layout": "IPY_MODEL_a81df46c3d854c2da881335df858f8ec",
            "max": 100,
            "min": 0,
            "orientation": "horizontal",
            "style": "IPY_MODEL_cb0f81fd389d48b392309e03b393af56",
            "value": 100
          }
        },
        "44a67d23b2df40129f0d0b483fa06d82": {
          "model_module": "@jupyter-widgets/controls",
          "model_name": "HTMLModel",
          "model_module_version": "1.5.0",
          "state": {
            "_dom_classes": [],
            "_model_module": "@jupyter-widgets/controls",
            "_model_module_version": "1.5.0",
            "_model_name": "HTMLModel",
            "_view_count": null,
            "_view_module": "@jupyter-widgets/controls",
            "_view_module_version": "1.5.0",
            "_view_name": "HTMLView",
            "description": "",
            "description_tooltip": null,
            "layout": "IPY_MODEL_a93cf408f1a44562817f005cb75b0490",
            "placeholder": "​",
            "style": "IPY_MODEL_ed4e1a59842e4a9fb99dbfd3a004bd38",
            "value": " 100/100 [00:00&lt;00:00, 824.78it/s]"
          }
        },
        "b74ba13d663244f38f8108e35c29ec46": {
          "model_module": "@jupyter-widgets/base",
          "model_name": "LayoutModel",
          "model_module_version": "1.2.0",
          "state": {
            "_model_module": "@jupyter-widgets/base",
            "_model_module_version": "1.2.0",
            "_model_name": "LayoutModel",
            "_view_count": null,
            "_view_module": "@jupyter-widgets/base",
            "_view_module_version": "1.2.0",
            "_view_name": "LayoutView",
            "align_content": null,
            "align_items": null,
            "align_self": null,
            "border": null,
            "bottom": null,
            "display": null,
            "flex": null,
            "flex_flow": null,
            "grid_area": null,
            "grid_auto_columns": null,
            "grid_auto_flow": null,
            "grid_auto_rows": null,
            "grid_column": null,
            "grid_gap": null,
            "grid_row": null,
            "grid_template_areas": null,
            "grid_template_columns": null,
            "grid_template_rows": null,
            "height": null,
            "justify_content": null,
            "justify_items": null,
            "left": null,
            "margin": null,
            "max_height": null,
            "max_width": null,
            "min_height": null,
            "min_width": null,
            "object_fit": null,
            "object_position": null,
            "order": null,
            "overflow": null,
            "overflow_x": null,
            "overflow_y": null,
            "padding": null,
            "right": null,
            "top": null,
            "visibility": null,
            "width": null
          }
        },
        "1a6ca3412d164d2baddd7e375df192df": {
          "model_module": "@jupyter-widgets/base",
          "model_name": "LayoutModel",
          "model_module_version": "1.2.0",
          "state": {
            "_model_module": "@jupyter-widgets/base",
            "_model_module_version": "1.2.0",
            "_model_name": "LayoutModel",
            "_view_count": null,
            "_view_module": "@jupyter-widgets/base",
            "_view_module_version": "1.2.0",
            "_view_name": "LayoutView",
            "align_content": null,
            "align_items": null,
            "align_self": null,
            "border": null,
            "bottom": null,
            "display": null,
            "flex": null,
            "flex_flow": null,
            "grid_area": null,
            "grid_auto_columns": null,
            "grid_auto_flow": null,
            "grid_auto_rows": null,
            "grid_column": null,
            "grid_gap": null,
            "grid_row": null,
            "grid_template_areas": null,
            "grid_template_columns": null,
            "grid_template_rows": null,
            "height": null,
            "justify_content": null,
            "justify_items": null,
            "left": null,
            "margin": null,
            "max_height": null,
            "max_width": null,
            "min_height": null,
            "min_width": null,
            "object_fit": null,
            "object_position": null,
            "order": null,
            "overflow": null,
            "overflow_x": null,
            "overflow_y": null,
            "padding": null,
            "right": null,
            "top": null,
            "visibility": null,
            "width": null
          }
        },
        "f97a8cc6116e45f9a632ec1d51f12eef": {
          "model_module": "@jupyter-widgets/controls",
          "model_name": "DescriptionStyleModel",
          "model_module_version": "1.5.0",
          "state": {
            "_model_module": "@jupyter-widgets/controls",
            "_model_module_version": "1.5.0",
            "_model_name": "DescriptionStyleModel",
            "_view_count": null,
            "_view_module": "@jupyter-widgets/base",
            "_view_module_version": "1.2.0",
            "_view_name": "StyleView",
            "description_width": ""
          }
        },
        "a81df46c3d854c2da881335df858f8ec": {
          "model_module": "@jupyter-widgets/base",
          "model_name": "LayoutModel",
          "model_module_version": "1.2.0",
          "state": {
            "_model_module": "@jupyter-widgets/base",
            "_model_module_version": "1.2.0",
            "_model_name": "LayoutModel",
            "_view_count": null,
            "_view_module": "@jupyter-widgets/base",
            "_view_module_version": "1.2.0",
            "_view_name": "LayoutView",
            "align_content": null,
            "align_items": null,
            "align_self": null,
            "border": null,
            "bottom": null,
            "display": null,
            "flex": null,
            "flex_flow": null,
            "grid_area": null,
            "grid_auto_columns": null,
            "grid_auto_flow": null,
            "grid_auto_rows": null,
            "grid_column": null,
            "grid_gap": null,
            "grid_row": null,
            "grid_template_areas": null,
            "grid_template_columns": null,
            "grid_template_rows": null,
            "height": null,
            "justify_content": null,
            "justify_items": null,
            "left": null,
            "margin": null,
            "max_height": null,
            "max_width": null,
            "min_height": null,
            "min_width": null,
            "object_fit": null,
            "object_position": null,
            "order": null,
            "overflow": null,
            "overflow_x": null,
            "overflow_y": null,
            "padding": null,
            "right": null,
            "top": null,
            "visibility": null,
            "width": null
          }
        },
        "cb0f81fd389d48b392309e03b393af56": {
          "model_module": "@jupyter-widgets/controls",
          "model_name": "ProgressStyleModel",
          "model_module_version": "1.5.0",
          "state": {
            "_model_module": "@jupyter-widgets/controls",
            "_model_module_version": "1.5.0",
            "_model_name": "ProgressStyleModel",
            "_view_count": null,
            "_view_module": "@jupyter-widgets/base",
            "_view_module_version": "1.2.0",
            "_view_name": "StyleView",
            "bar_color": null,
            "description_width": ""
          }
        },
        "a93cf408f1a44562817f005cb75b0490": {
          "model_module": "@jupyter-widgets/base",
          "model_name": "LayoutModel",
          "model_module_version": "1.2.0",
          "state": {
            "_model_module": "@jupyter-widgets/base",
            "_model_module_version": "1.2.0",
            "_model_name": "LayoutModel",
            "_view_count": null,
            "_view_module": "@jupyter-widgets/base",
            "_view_module_version": "1.2.0",
            "_view_name": "LayoutView",
            "align_content": null,
            "align_items": null,
            "align_self": null,
            "border": null,
            "bottom": null,
            "display": null,
            "flex": null,
            "flex_flow": null,
            "grid_area": null,
            "grid_auto_columns": null,
            "grid_auto_flow": null,
            "grid_auto_rows": null,
            "grid_column": null,
            "grid_gap": null,
            "grid_row": null,
            "grid_template_areas": null,
            "grid_template_columns": null,
            "grid_template_rows": null,
            "height": null,
            "justify_content": null,
            "justify_items": null,
            "left": null,
            "margin": null,
            "max_height": null,
            "max_width": null,
            "min_height": null,
            "min_width": null,
            "object_fit": null,
            "object_position": null,
            "order": null,
            "overflow": null,
            "overflow_x": null,
            "overflow_y": null,
            "padding": null,
            "right": null,
            "top": null,
            "visibility": null,
            "width": null
          }
        },
        "ed4e1a59842e4a9fb99dbfd3a004bd38": {
          "model_module": "@jupyter-widgets/controls",
          "model_name": "DescriptionStyleModel",
          "model_module_version": "1.5.0",
          "state": {
            "_model_module": "@jupyter-widgets/controls",
            "_model_module_version": "1.5.0",
            "_model_name": "DescriptionStyleModel",
            "_view_count": null,
            "_view_module": "@jupyter-widgets/base",
            "_view_module_version": "1.2.0",
            "_view_name": "StyleView",
            "description_width": ""
          }
        },
        "8d05653243a740f8b794dde3975247b8": {
          "model_module": "@jupyter-widgets/controls",
          "model_name": "HBoxModel",
          "model_module_version": "1.5.0",
          "state": {
            "_dom_classes": [],
            "_model_module": "@jupyter-widgets/controls",
            "_model_module_version": "1.5.0",
            "_model_name": "HBoxModel",
            "_view_count": null,
            "_view_module": "@jupyter-widgets/controls",
            "_view_module_version": "1.5.0",
            "_view_name": "HBoxView",
            "box_style": "",
            "children": [
              "IPY_MODEL_677be1bb3da9415794efd3074c6d1743",
              "IPY_MODEL_239d9de865214c7bbca5bc01b7905e45",
              "IPY_MODEL_ea2f49eb383a4cbd8c07a845031e33cf"
            ],
            "layout": "IPY_MODEL_287e565b72ff47a19046f89e5671ed59"
          }
        },
        "677be1bb3da9415794efd3074c6d1743": {
          "model_module": "@jupyter-widgets/controls",
          "model_name": "HTMLModel",
          "model_module_version": "1.5.0",
          "state": {
            "_dom_classes": [],
            "_model_module": "@jupyter-widgets/controls",
            "_model_module_version": "1.5.0",
            "_model_name": "HTMLModel",
            "_view_count": null,
            "_view_module": "@jupyter-widgets/controls",
            "_view_module_version": "1.5.0",
            "_view_name": "HTMLView",
            "description": "",
            "description_tooltip": null,
            "layout": "IPY_MODEL_bb0251b3cbf640a68d47efa3a69fc11e",
            "placeholder": "​",
            "style": "IPY_MODEL_96e31c6c4b1e4dbea429ead65e0a4a1c",
            "value": "Running body_fun:  73%"
          }
        },
        "239d9de865214c7bbca5bc01b7905e45": {
          "model_module": "@jupyter-widgets/controls",
          "model_name": "FloatProgressModel",
          "model_module_version": "1.5.0",
          "state": {
            "_dom_classes": [],
            "_model_module": "@jupyter-widgets/controls",
            "_model_module_version": "1.5.0",
            "_model_name": "FloatProgressModel",
            "_view_count": null,
            "_view_module": "@jupyter-widgets/controls",
            "_view_module_version": "1.5.0",
            "_view_name": "ProgressView",
            "bar_style": "danger",
            "description": "",
            "description_tooltip": null,
            "layout": "IPY_MODEL_03b3c9d746dc44d38b8436aca2a2b8fa",
            "max": 100,
            "min": 0,
            "orientation": "horizontal",
            "style": "IPY_MODEL_21d4a7d5c6814e669ba1a96b955c8a20",
            "value": 72.51952589312847
          }
        },
        "ea2f49eb383a4cbd8c07a845031e33cf": {
          "model_module": "@jupyter-widgets/controls",
          "model_name": "HTMLModel",
          "model_module_version": "1.5.0",
          "state": {
            "_dom_classes": [],
            "_model_module": "@jupyter-widgets/controls",
            "_model_module_version": "1.5.0",
            "_model_name": "HTMLModel",
            "_view_count": null,
            "_view_module": "@jupyter-widgets/controls",
            "_view_module_version": "1.5.0",
            "_view_name": "HTMLView",
            "description": "",
            "description_tooltip": null,
            "layout": "IPY_MODEL_87d777a9305a4fc88ba885dfd2d41479",
            "placeholder": "​",
            "style": "IPY_MODEL_d2090560d47842f4a367dce7ea6350f9",
            "value": " 72.5/100 [00:00&lt;00:00, 647.89it/s]"
          }
        },
        "287e565b72ff47a19046f89e5671ed59": {
          "model_module": "@jupyter-widgets/base",
          "model_name": "LayoutModel",
          "model_module_version": "1.2.0",
          "state": {
            "_model_module": "@jupyter-widgets/base",
            "_model_module_version": "1.2.0",
            "_model_name": "LayoutModel",
            "_view_count": null,
            "_view_module": "@jupyter-widgets/base",
            "_view_module_version": "1.2.0",
            "_view_name": "LayoutView",
            "align_content": null,
            "align_items": null,
            "align_self": null,
            "border": null,
            "bottom": null,
            "display": null,
            "flex": null,
            "flex_flow": null,
            "grid_area": null,
            "grid_auto_columns": null,
            "grid_auto_flow": null,
            "grid_auto_rows": null,
            "grid_column": null,
            "grid_gap": null,
            "grid_row": null,
            "grid_template_areas": null,
            "grid_template_columns": null,
            "grid_template_rows": null,
            "height": null,
            "justify_content": null,
            "justify_items": null,
            "left": null,
            "margin": null,
            "max_height": null,
            "max_width": null,
            "min_height": null,
            "min_width": null,
            "object_fit": null,
            "object_position": null,
            "order": null,
            "overflow": null,
            "overflow_x": null,
            "overflow_y": null,
            "padding": null,
            "right": null,
            "top": null,
            "visibility": null,
            "width": null
          }
        },
        "bb0251b3cbf640a68d47efa3a69fc11e": {
          "model_module": "@jupyter-widgets/base",
          "model_name": "LayoutModel",
          "model_module_version": "1.2.0",
          "state": {
            "_model_module": "@jupyter-widgets/base",
            "_model_module_version": "1.2.0",
            "_model_name": "LayoutModel",
            "_view_count": null,
            "_view_module": "@jupyter-widgets/base",
            "_view_module_version": "1.2.0",
            "_view_name": "LayoutView",
            "align_content": null,
            "align_items": null,
            "align_self": null,
            "border": null,
            "bottom": null,
            "display": null,
            "flex": null,
            "flex_flow": null,
            "grid_area": null,
            "grid_auto_columns": null,
            "grid_auto_flow": null,
            "grid_auto_rows": null,
            "grid_column": null,
            "grid_gap": null,
            "grid_row": null,
            "grid_template_areas": null,
            "grid_template_columns": null,
            "grid_template_rows": null,
            "height": null,
            "justify_content": null,
            "justify_items": null,
            "left": null,
            "margin": null,
            "max_height": null,
            "max_width": null,
            "min_height": null,
            "min_width": null,
            "object_fit": null,
            "object_position": null,
            "order": null,
            "overflow": null,
            "overflow_x": null,
            "overflow_y": null,
            "padding": null,
            "right": null,
            "top": null,
            "visibility": null,
            "width": null
          }
        },
        "96e31c6c4b1e4dbea429ead65e0a4a1c": {
          "model_module": "@jupyter-widgets/controls",
          "model_name": "DescriptionStyleModel",
          "model_module_version": "1.5.0",
          "state": {
            "_model_module": "@jupyter-widgets/controls",
            "_model_module_version": "1.5.0",
            "_model_name": "DescriptionStyleModel",
            "_view_count": null,
            "_view_module": "@jupyter-widgets/base",
            "_view_module_version": "1.2.0",
            "_view_name": "StyleView",
            "description_width": ""
          }
        },
        "03b3c9d746dc44d38b8436aca2a2b8fa": {
          "model_module": "@jupyter-widgets/base",
          "model_name": "LayoutModel",
          "model_module_version": "1.2.0",
          "state": {
            "_model_module": "@jupyter-widgets/base",
            "_model_module_version": "1.2.0",
            "_model_name": "LayoutModel",
            "_view_count": null,
            "_view_module": "@jupyter-widgets/base",
            "_view_module_version": "1.2.0",
            "_view_name": "LayoutView",
            "align_content": null,
            "align_items": null,
            "align_self": null,
            "border": null,
            "bottom": null,
            "display": null,
            "flex": null,
            "flex_flow": null,
            "grid_area": null,
            "grid_auto_columns": null,
            "grid_auto_flow": null,
            "grid_auto_rows": null,
            "grid_column": null,
            "grid_gap": null,
            "grid_row": null,
            "grid_template_areas": null,
            "grid_template_columns": null,
            "grid_template_rows": null,
            "height": null,
            "justify_content": null,
            "justify_items": null,
            "left": null,
            "margin": null,
            "max_height": null,
            "max_width": null,
            "min_height": null,
            "min_width": null,
            "object_fit": null,
            "object_position": null,
            "order": null,
            "overflow": null,
            "overflow_x": null,
            "overflow_y": null,
            "padding": null,
            "right": null,
            "top": null,
            "visibility": null,
            "width": null
          }
        },
        "21d4a7d5c6814e669ba1a96b955c8a20": {
          "model_module": "@jupyter-widgets/controls",
          "model_name": "ProgressStyleModel",
          "model_module_version": "1.5.0",
          "state": {
            "_model_module": "@jupyter-widgets/controls",
            "_model_module_version": "1.5.0",
            "_model_name": "ProgressStyleModel",
            "_view_count": null,
            "_view_module": "@jupyter-widgets/base",
            "_view_module_version": "1.2.0",
            "_view_name": "StyleView",
            "bar_color": null,
            "description_width": ""
          }
        },
        "87d777a9305a4fc88ba885dfd2d41479": {
          "model_module": "@jupyter-widgets/base",
          "model_name": "LayoutModel",
          "model_module_version": "1.2.0",
          "state": {
            "_model_module": "@jupyter-widgets/base",
            "_model_module_version": "1.2.0",
            "_model_name": "LayoutModel",
            "_view_count": null,
            "_view_module": "@jupyter-widgets/base",
            "_view_module_version": "1.2.0",
            "_view_name": "LayoutView",
            "align_content": null,
            "align_items": null,
            "align_self": null,
            "border": null,
            "bottom": null,
            "display": null,
            "flex": null,
            "flex_flow": null,
            "grid_area": null,
            "grid_auto_columns": null,
            "grid_auto_flow": null,
            "grid_auto_rows": null,
            "grid_column": null,
            "grid_gap": null,
            "grid_row": null,
            "grid_template_areas": null,
            "grid_template_columns": null,
            "grid_template_rows": null,
            "height": null,
            "justify_content": null,
            "justify_items": null,
            "left": null,
            "margin": null,
            "max_height": null,
            "max_width": null,
            "min_height": null,
            "min_width": null,
            "object_fit": null,
            "object_position": null,
            "order": null,
            "overflow": null,
            "overflow_x": null,
            "overflow_y": null,
            "padding": null,
            "right": null,
            "top": null,
            "visibility": null,
            "width": null
          }
        },
        "d2090560d47842f4a367dce7ea6350f9": {
          "model_module": "@jupyter-widgets/controls",
          "model_name": "DescriptionStyleModel",
          "model_module_version": "1.5.0",
          "state": {
            "_model_module": "@jupyter-widgets/controls",
            "_model_module_version": "1.5.0",
            "_model_name": "DescriptionStyleModel",
            "_view_count": null,
            "_view_module": "@jupyter-widgets/base",
            "_view_module_version": "1.2.0",
            "_view_name": "StyleView",
            "description_width": ""
          }
        },
        "7e6d0be829424aa394f7f101cbf030c0": {
          "model_module": "@jupyter-widgets/controls",
          "model_name": "HBoxModel",
          "model_module_version": "1.5.0",
          "state": {
            "_dom_classes": [],
            "_model_module": "@jupyter-widgets/controls",
            "_model_module_version": "1.5.0",
            "_model_name": "HBoxModel",
            "_view_count": null,
            "_view_module": "@jupyter-widgets/controls",
            "_view_module_version": "1.5.0",
            "_view_name": "HBoxView",
            "box_style": "",
            "children": [
              "IPY_MODEL_900a023838894caf90e74f34f59867f8",
              "IPY_MODEL_962e91d6964949dd917514a48d5be313",
              "IPY_MODEL_3920f63362be49e89cc44d32dff42d95"
            ],
            "layout": "IPY_MODEL_bd1a5e49449c443caa55e0c90297fb40"
          }
        },
        "900a023838894caf90e74f34f59867f8": {
          "model_module": "@jupyter-widgets/controls",
          "model_name": "HTMLModel",
          "model_module_version": "1.5.0",
          "state": {
            "_dom_classes": [],
            "_model_module": "@jupyter-widgets/controls",
            "_model_module_version": "1.5.0",
            "_model_name": "HTMLModel",
            "_view_count": null,
            "_view_module": "@jupyter-widgets/controls",
            "_view_module_version": "1.5.0",
            "_view_name": "HTMLView",
            "description": "",
            "description_tooltip": null,
            "layout": "IPY_MODEL_88ca3077f0a04259abfd7b4617407344",
            "placeholder": "​",
            "style": "IPY_MODEL_1fd224f92ada48458f3c3a2d5c0b0bac",
            "value": "Running body_fun: 100%"
          }
        },
        "962e91d6964949dd917514a48d5be313": {
          "model_module": "@jupyter-widgets/controls",
          "model_name": "FloatProgressModel",
          "model_module_version": "1.5.0",
          "state": {
            "_dom_classes": [],
            "_model_module": "@jupyter-widgets/controls",
            "_model_module_version": "1.5.0",
            "_model_name": "FloatProgressModel",
            "_view_count": null,
            "_view_module": "@jupyter-widgets/controls",
            "_view_module_version": "1.5.0",
            "_view_name": "ProgressView",
            "bar_style": "success",
            "description": "",
            "description_tooltip": null,
            "layout": "IPY_MODEL_6c6504bf93524dcfbd81fd18bfa8eeb4",
            "max": 100,
            "min": 0,
            "orientation": "horizontal",
            "style": "IPY_MODEL_7789512683ab4039a7ef521860d65a1c",
            "value": 100
          }
        },
        "3920f63362be49e89cc44d32dff42d95": {
          "model_module": "@jupyter-widgets/controls",
          "model_name": "HTMLModel",
          "model_module_version": "1.5.0",
          "state": {
            "_dom_classes": [],
            "_model_module": "@jupyter-widgets/controls",
            "_model_module_version": "1.5.0",
            "_model_name": "HTMLModel",
            "_view_count": null,
            "_view_module": "@jupyter-widgets/controls",
            "_view_module_version": "1.5.0",
            "_view_name": "HTMLView",
            "description": "",
            "description_tooltip": null,
            "layout": "IPY_MODEL_62b622f29d1344f0841d195b03223a80",
            "placeholder": "​",
            "style": "IPY_MODEL_e7e7fd7f794e4f6e90f74f0e52575927",
            "value": " 100/100 [00:00&lt;00:00, 277.78it/s]"
          }
        },
        "bd1a5e49449c443caa55e0c90297fb40": {
          "model_module": "@jupyter-widgets/base",
          "model_name": "LayoutModel",
          "model_module_version": "1.2.0",
          "state": {
            "_model_module": "@jupyter-widgets/base",
            "_model_module_version": "1.2.0",
            "_model_name": "LayoutModel",
            "_view_count": null,
            "_view_module": "@jupyter-widgets/base",
            "_view_module_version": "1.2.0",
            "_view_name": "LayoutView",
            "align_content": null,
            "align_items": null,
            "align_self": null,
            "border": null,
            "bottom": null,
            "display": null,
            "flex": null,
            "flex_flow": null,
            "grid_area": null,
            "grid_auto_columns": null,
            "grid_auto_flow": null,
            "grid_auto_rows": null,
            "grid_column": null,
            "grid_gap": null,
            "grid_row": null,
            "grid_template_areas": null,
            "grid_template_columns": null,
            "grid_template_rows": null,
            "height": null,
            "justify_content": null,
            "justify_items": null,
            "left": null,
            "margin": null,
            "max_height": null,
            "max_width": null,
            "min_height": null,
            "min_width": null,
            "object_fit": null,
            "object_position": null,
            "order": null,
            "overflow": null,
            "overflow_x": null,
            "overflow_y": null,
            "padding": null,
            "right": null,
            "top": null,
            "visibility": null,
            "width": null
          }
        },
        "88ca3077f0a04259abfd7b4617407344": {
          "model_module": "@jupyter-widgets/base",
          "model_name": "LayoutModel",
          "model_module_version": "1.2.0",
          "state": {
            "_model_module": "@jupyter-widgets/base",
            "_model_module_version": "1.2.0",
            "_model_name": "LayoutModel",
            "_view_count": null,
            "_view_module": "@jupyter-widgets/base",
            "_view_module_version": "1.2.0",
            "_view_name": "LayoutView",
            "align_content": null,
            "align_items": null,
            "align_self": null,
            "border": null,
            "bottom": null,
            "display": null,
            "flex": null,
            "flex_flow": null,
            "grid_area": null,
            "grid_auto_columns": null,
            "grid_auto_flow": null,
            "grid_auto_rows": null,
            "grid_column": null,
            "grid_gap": null,
            "grid_row": null,
            "grid_template_areas": null,
            "grid_template_columns": null,
            "grid_template_rows": null,
            "height": null,
            "justify_content": null,
            "justify_items": null,
            "left": null,
            "margin": null,
            "max_height": null,
            "max_width": null,
            "min_height": null,
            "min_width": null,
            "object_fit": null,
            "object_position": null,
            "order": null,
            "overflow": null,
            "overflow_x": null,
            "overflow_y": null,
            "padding": null,
            "right": null,
            "top": null,
            "visibility": null,
            "width": null
          }
        },
        "1fd224f92ada48458f3c3a2d5c0b0bac": {
          "model_module": "@jupyter-widgets/controls",
          "model_name": "DescriptionStyleModel",
          "model_module_version": "1.5.0",
          "state": {
            "_model_module": "@jupyter-widgets/controls",
            "_model_module_version": "1.5.0",
            "_model_name": "DescriptionStyleModel",
            "_view_count": null,
            "_view_module": "@jupyter-widgets/base",
            "_view_module_version": "1.2.0",
            "_view_name": "StyleView",
            "description_width": ""
          }
        },
        "6c6504bf93524dcfbd81fd18bfa8eeb4": {
          "model_module": "@jupyter-widgets/base",
          "model_name": "LayoutModel",
          "model_module_version": "1.2.0",
          "state": {
            "_model_module": "@jupyter-widgets/base",
            "_model_module_version": "1.2.0",
            "_model_name": "LayoutModel",
            "_view_count": null,
            "_view_module": "@jupyter-widgets/base",
            "_view_module_version": "1.2.0",
            "_view_name": "LayoutView",
            "align_content": null,
            "align_items": null,
            "align_self": null,
            "border": null,
            "bottom": null,
            "display": null,
            "flex": null,
            "flex_flow": null,
            "grid_area": null,
            "grid_auto_columns": null,
            "grid_auto_flow": null,
            "grid_auto_rows": null,
            "grid_column": null,
            "grid_gap": null,
            "grid_row": null,
            "grid_template_areas": null,
            "grid_template_columns": null,
            "grid_template_rows": null,
            "height": null,
            "justify_content": null,
            "justify_items": null,
            "left": null,
            "margin": null,
            "max_height": null,
            "max_width": null,
            "min_height": null,
            "min_width": null,
            "object_fit": null,
            "object_position": null,
            "order": null,
            "overflow": null,
            "overflow_x": null,
            "overflow_y": null,
            "padding": null,
            "right": null,
            "top": null,
            "visibility": null,
            "width": null
          }
        },
        "7789512683ab4039a7ef521860d65a1c": {
          "model_module": "@jupyter-widgets/controls",
          "model_name": "ProgressStyleModel",
          "model_module_version": "1.5.0",
          "state": {
            "_model_module": "@jupyter-widgets/controls",
            "_model_module_version": "1.5.0",
            "_model_name": "ProgressStyleModel",
            "_view_count": null,
            "_view_module": "@jupyter-widgets/base",
            "_view_module_version": "1.2.0",
            "_view_name": "StyleView",
            "bar_color": null,
            "description_width": ""
          }
        },
        "62b622f29d1344f0841d195b03223a80": {
          "model_module": "@jupyter-widgets/base",
          "model_name": "LayoutModel",
          "model_module_version": "1.2.0",
          "state": {
            "_model_module": "@jupyter-widgets/base",
            "_model_module_version": "1.2.0",
            "_model_name": "LayoutModel",
            "_view_count": null,
            "_view_module": "@jupyter-widgets/base",
            "_view_module_version": "1.2.0",
            "_view_name": "LayoutView",
            "align_content": null,
            "align_items": null,
            "align_self": null,
            "border": null,
            "bottom": null,
            "display": null,
            "flex": null,
            "flex_flow": null,
            "grid_area": null,
            "grid_auto_columns": null,
            "grid_auto_flow": null,
            "grid_auto_rows": null,
            "grid_column": null,
            "grid_gap": null,
            "grid_row": null,
            "grid_template_areas": null,
            "grid_template_columns": null,
            "grid_template_rows": null,
            "height": null,
            "justify_content": null,
            "justify_items": null,
            "left": null,
            "margin": null,
            "max_height": null,
            "max_width": null,
            "min_height": null,
            "min_width": null,
            "object_fit": null,
            "object_position": null,
            "order": null,
            "overflow": null,
            "overflow_x": null,
            "overflow_y": null,
            "padding": null,
            "right": null,
            "top": null,
            "visibility": null,
            "width": null
          }
        },
        "e7e7fd7f794e4f6e90f74f0e52575927": {
          "model_module": "@jupyter-widgets/controls",
          "model_name": "DescriptionStyleModel",
          "model_module_version": "1.5.0",
          "state": {
            "_model_module": "@jupyter-widgets/controls",
            "_model_module_version": "1.5.0",
            "_model_name": "DescriptionStyleModel",
            "_view_count": null,
            "_view_module": "@jupyter-widgets/base",
            "_view_module_version": "1.2.0",
            "_view_name": "StyleView",
            "description_width": ""
          }
        },
        "b2adba21d0714a358d0db07764507190": {
          "model_module": "@jupyter-widgets/controls",
          "model_name": "HBoxModel",
          "model_module_version": "1.5.0",
          "state": {
            "_dom_classes": [],
            "_model_module": "@jupyter-widgets/controls",
            "_model_module_version": "1.5.0",
            "_model_name": "HBoxModel",
            "_view_count": null,
            "_view_module": "@jupyter-widgets/controls",
            "_view_module_version": "1.5.0",
            "_view_name": "HBoxView",
            "box_style": "",
            "children": [
              "IPY_MODEL_55a49cd851654c12a90fdade641dc0ee",
              "IPY_MODEL_f097ecd06eb941079e8d041349c4a968",
              "IPY_MODEL_657ac82d670f47ed8ee443f2b06de56f"
            ],
            "layout": "IPY_MODEL_6a3477ddd7f2440592517a0f48505059"
          }
        },
        "55a49cd851654c12a90fdade641dc0ee": {
          "model_module": "@jupyter-widgets/controls",
          "model_name": "HTMLModel",
          "model_module_version": "1.5.0",
          "state": {
            "_dom_classes": [],
            "_model_module": "@jupyter-widgets/controls",
            "_model_module_version": "1.5.0",
            "_model_name": "HTMLModel",
            "_view_count": null,
            "_view_module": "@jupyter-widgets/controls",
            "_view_module_version": "1.5.0",
            "_view_name": "HTMLView",
            "description": "",
            "description_tooltip": null,
            "layout": "IPY_MODEL_25c9a109e09d437f884adb7920bbe788",
            "placeholder": "​",
            "style": "IPY_MODEL_6001221dc03745e5adf900ae9e7d195f",
            "value": "Running body_fun:  83%"
          }
        },
        "f097ecd06eb941079e8d041349c4a968": {
          "model_module": "@jupyter-widgets/controls",
          "model_name": "FloatProgressModel",
          "model_module_version": "1.5.0",
          "state": {
            "_dom_classes": [],
            "_model_module": "@jupyter-widgets/controls",
            "_model_module_version": "1.5.0",
            "_model_name": "FloatProgressModel",
            "_view_count": null,
            "_view_module": "@jupyter-widgets/controls",
            "_view_module_version": "1.5.0",
            "_view_name": "ProgressView",
            "bar_style": "danger",
            "description": "",
            "description_tooltip": null,
            "layout": "IPY_MODEL_c9900b4b354946f3a2c159bba096fa99",
            "max": 100,
            "min": 0,
            "orientation": "horizontal",
            "style": "IPY_MODEL_2fe0dc270cd54eb6b09dc696315f1a86",
            "value": 83.47477906549892
          }
        },
        "657ac82d670f47ed8ee443f2b06de56f": {
          "model_module": "@jupyter-widgets/controls",
          "model_name": "HTMLModel",
          "model_module_version": "1.5.0",
          "state": {
            "_dom_classes": [],
            "_model_module": "@jupyter-widgets/controls",
            "_model_module_version": "1.5.0",
            "_model_name": "HTMLModel",
            "_view_count": null,
            "_view_module": "@jupyter-widgets/controls",
            "_view_module_version": "1.5.0",
            "_view_name": "HTMLView",
            "description": "",
            "description_tooltip": null,
            "layout": "IPY_MODEL_4dcff220d4864f109c891efde8660e66",
            "placeholder": "​",
            "style": "IPY_MODEL_a293864d0ea04275892dcba54f9a9275",
            "value": " 83.5/100 [00:00&lt;00:00, 728.87it/s]"
          }
        },
        "6a3477ddd7f2440592517a0f48505059": {
          "model_module": "@jupyter-widgets/base",
          "model_name": "LayoutModel",
          "model_module_version": "1.2.0",
          "state": {
            "_model_module": "@jupyter-widgets/base",
            "_model_module_version": "1.2.0",
            "_model_name": "LayoutModel",
            "_view_count": null,
            "_view_module": "@jupyter-widgets/base",
            "_view_module_version": "1.2.0",
            "_view_name": "LayoutView",
            "align_content": null,
            "align_items": null,
            "align_self": null,
            "border": null,
            "bottom": null,
            "display": null,
            "flex": null,
            "flex_flow": null,
            "grid_area": null,
            "grid_auto_columns": null,
            "grid_auto_flow": null,
            "grid_auto_rows": null,
            "grid_column": null,
            "grid_gap": null,
            "grid_row": null,
            "grid_template_areas": null,
            "grid_template_columns": null,
            "grid_template_rows": null,
            "height": null,
            "justify_content": null,
            "justify_items": null,
            "left": null,
            "margin": null,
            "max_height": null,
            "max_width": null,
            "min_height": null,
            "min_width": null,
            "object_fit": null,
            "object_position": null,
            "order": null,
            "overflow": null,
            "overflow_x": null,
            "overflow_y": null,
            "padding": null,
            "right": null,
            "top": null,
            "visibility": null,
            "width": null
          }
        },
        "25c9a109e09d437f884adb7920bbe788": {
          "model_module": "@jupyter-widgets/base",
          "model_name": "LayoutModel",
          "model_module_version": "1.2.0",
          "state": {
            "_model_module": "@jupyter-widgets/base",
            "_model_module_version": "1.2.0",
            "_model_name": "LayoutModel",
            "_view_count": null,
            "_view_module": "@jupyter-widgets/base",
            "_view_module_version": "1.2.0",
            "_view_name": "LayoutView",
            "align_content": null,
            "align_items": null,
            "align_self": null,
            "border": null,
            "bottom": null,
            "display": null,
            "flex": null,
            "flex_flow": null,
            "grid_area": null,
            "grid_auto_columns": null,
            "grid_auto_flow": null,
            "grid_auto_rows": null,
            "grid_column": null,
            "grid_gap": null,
            "grid_row": null,
            "grid_template_areas": null,
            "grid_template_columns": null,
            "grid_template_rows": null,
            "height": null,
            "justify_content": null,
            "justify_items": null,
            "left": null,
            "margin": null,
            "max_height": null,
            "max_width": null,
            "min_height": null,
            "min_width": null,
            "object_fit": null,
            "object_position": null,
            "order": null,
            "overflow": null,
            "overflow_x": null,
            "overflow_y": null,
            "padding": null,
            "right": null,
            "top": null,
            "visibility": null,
            "width": null
          }
        },
        "6001221dc03745e5adf900ae9e7d195f": {
          "model_module": "@jupyter-widgets/controls",
          "model_name": "DescriptionStyleModel",
          "model_module_version": "1.5.0",
          "state": {
            "_model_module": "@jupyter-widgets/controls",
            "_model_module_version": "1.5.0",
            "_model_name": "DescriptionStyleModel",
            "_view_count": null,
            "_view_module": "@jupyter-widgets/base",
            "_view_module_version": "1.2.0",
            "_view_name": "StyleView",
            "description_width": ""
          }
        },
        "c9900b4b354946f3a2c159bba096fa99": {
          "model_module": "@jupyter-widgets/base",
          "model_name": "LayoutModel",
          "model_module_version": "1.2.0",
          "state": {
            "_model_module": "@jupyter-widgets/base",
            "_model_module_version": "1.2.0",
            "_model_name": "LayoutModel",
            "_view_count": null,
            "_view_module": "@jupyter-widgets/base",
            "_view_module_version": "1.2.0",
            "_view_name": "LayoutView",
            "align_content": null,
            "align_items": null,
            "align_self": null,
            "border": null,
            "bottom": null,
            "display": null,
            "flex": null,
            "flex_flow": null,
            "grid_area": null,
            "grid_auto_columns": null,
            "grid_auto_flow": null,
            "grid_auto_rows": null,
            "grid_column": null,
            "grid_gap": null,
            "grid_row": null,
            "grid_template_areas": null,
            "grid_template_columns": null,
            "grid_template_rows": null,
            "height": null,
            "justify_content": null,
            "justify_items": null,
            "left": null,
            "margin": null,
            "max_height": null,
            "max_width": null,
            "min_height": null,
            "min_width": null,
            "object_fit": null,
            "object_position": null,
            "order": null,
            "overflow": null,
            "overflow_x": null,
            "overflow_y": null,
            "padding": null,
            "right": null,
            "top": null,
            "visibility": null,
            "width": null
          }
        },
        "2fe0dc270cd54eb6b09dc696315f1a86": {
          "model_module": "@jupyter-widgets/controls",
          "model_name": "ProgressStyleModel",
          "model_module_version": "1.5.0",
          "state": {
            "_model_module": "@jupyter-widgets/controls",
            "_model_module_version": "1.5.0",
            "_model_name": "ProgressStyleModel",
            "_view_count": null,
            "_view_module": "@jupyter-widgets/base",
            "_view_module_version": "1.2.0",
            "_view_name": "StyleView",
            "bar_color": null,
            "description_width": ""
          }
        },
        "4dcff220d4864f109c891efde8660e66": {
          "model_module": "@jupyter-widgets/base",
          "model_name": "LayoutModel",
          "model_module_version": "1.2.0",
          "state": {
            "_model_module": "@jupyter-widgets/base",
            "_model_module_version": "1.2.0",
            "_model_name": "LayoutModel",
            "_view_count": null,
            "_view_module": "@jupyter-widgets/base",
            "_view_module_version": "1.2.0",
            "_view_name": "LayoutView",
            "align_content": null,
            "align_items": null,
            "align_self": null,
            "border": null,
            "bottom": null,
            "display": null,
            "flex": null,
            "flex_flow": null,
            "grid_area": null,
            "grid_auto_columns": null,
            "grid_auto_flow": null,
            "grid_auto_rows": null,
            "grid_column": null,
            "grid_gap": null,
            "grid_row": null,
            "grid_template_areas": null,
            "grid_template_columns": null,
            "grid_template_rows": null,
            "height": null,
            "justify_content": null,
            "justify_items": null,
            "left": null,
            "margin": null,
            "max_height": null,
            "max_width": null,
            "min_height": null,
            "min_width": null,
            "object_fit": null,
            "object_position": null,
            "order": null,
            "overflow": null,
            "overflow_x": null,
            "overflow_y": null,
            "padding": null,
            "right": null,
            "top": null,
            "visibility": null,
            "width": null
          }
        },
        "a293864d0ea04275892dcba54f9a9275": {
          "model_module": "@jupyter-widgets/controls",
          "model_name": "DescriptionStyleModel",
          "model_module_version": "1.5.0",
          "state": {
            "_model_module": "@jupyter-widgets/controls",
            "_model_module_version": "1.5.0",
            "_model_name": "DescriptionStyleModel",
            "_view_count": null,
            "_view_module": "@jupyter-widgets/base",
            "_view_module_version": "1.2.0",
            "_view_name": "StyleView",
            "description_width": ""
          }
        }
      }
    }
  },
  "cells": [
    {
      "cell_type": "code",
      "execution_count": 5,
      "metadata": {
        "colab": {
          "base_uri": "https://localhost:8080/"
        },
        "id": "0PdU9f8VbQWo",
        "outputId": "9899481d-e9a7-46aa-9bff-4e57211d5f90"
      },
      "outputs": [
        {
          "output_type": "stream",
          "name": "stdout",
          "text": [
            "Requirement already satisfied: cola-ml in /usr/local/lib/python3.10/dist-packages (0.0.5)\n",
            "Requirement already satisfied: scipy in /usr/local/lib/python3.10/dist-packages (from cola-ml) (1.11.4)\n",
            "Requirement already satisfied: tqdm>=4.38 in /usr/local/lib/python3.10/dist-packages (from cola-ml) (4.66.2)\n",
            "Requirement already satisfied: cola-plum-dispatch==0.1.4 in /usr/local/lib/python3.10/dist-packages (from cola-ml) (0.1.4)\n",
            "Requirement already satisfied: optree in /usr/local/lib/python3.10/dist-packages (from cola-ml) (0.11.0)\n",
            "Requirement already satisfied: pytreeclass in /usr/local/lib/python3.10/dist-packages (from cola-ml) (0.9.2)\n",
            "Requirement already satisfied: beartype>=0.16.2 in /usr/local/lib/python3.10/dist-packages (from cola-plum-dispatch==0.1.4->cola-ml) (0.18.5)\n",
            "Requirement already satisfied: typing-extensions in /usr/local/lib/python3.10/dist-packages (from cola-plum-dispatch==0.1.4->cola-ml) (4.11.0)\n",
            "Requirement already satisfied: jax>=0.4.7 in /usr/local/lib/python3.10/dist-packages (from pytreeclass->cola-ml) (0.4.26)\n",
            "Requirement already satisfied: numpy<1.28.0,>=1.21.6 in /usr/local/lib/python3.10/dist-packages (from scipy->cola-ml) (1.25.2)\n",
            "Requirement already satisfied: ml-dtypes>=0.2.0 in /usr/local/lib/python3.10/dist-packages (from jax>=0.4.7->pytreeclass->cola-ml) (0.2.0)\n",
            "Requirement already satisfied: opt-einsum in /usr/local/lib/python3.10/dist-packages (from jax>=0.4.7->pytreeclass->cola-ml) (3.3.0)\n"
          ]
        }
      ],
      "source": [
        "# installations\n",
        "!pip install cola-ml"
      ]
    },
    {
      "cell_type": "code",
      "source": [
        "# import modules\n",
        "import cola\n",
        "import torch\n",
        "import numpy as np\n",
        "import jax.numpy as jnp\n",
        "import matplotlib.pyplot as plt\n",
        "import warnings\n",
        "\n",
        "warnings.filterwarnings(\"ignore\")\n",
        "torch.manual_seed(21)"
      ],
      "metadata": {
        "colab": {
          "base_uri": "https://localhost:8080/"
        },
        "id": "vOx2g1JKbYuM",
        "outputId": "aab01f54-d3d4-44f7-e3a9-32efdb7230e8"
      },
      "execution_count": 6,
      "outputs": [
        {
          "output_type": "execute_result",
          "data": {
            "text/plain": [
              "<torch._C.Generator at 0x7db0dd857850>"
            ]
          },
          "metadata": {},
          "execution_count": 6
        }
      ]
    },
    {
      "cell_type": "markdown",
      "source": [
        "# Creating a Linear Operator"
      ],
      "metadata": {
        "id": "aYKQIcaPhr9C"
      }
    },
    {
      "cell_type": "code",
      "source": [
        "# defining a dense matrix and a vector to act upon\n",
        "N = 4\n",
        "A_dense = torch.randn(N, N)\n",
        "vec = torch.randn(N)\n",
        "print(f\"A: {A_dense} \\n\\nvec: {vec}\\n\\nAv: {A_dense @ vec}\")"
      ],
      "metadata": {
        "colab": {
          "base_uri": "https://localhost:8080/"
        },
        "id": "FHjJNMWXcMtH",
        "outputId": "c75c1125-9b6b-4d9e-d124-077180c197d3"
      },
      "execution_count": 7,
      "outputs": [
        {
          "output_type": "stream",
          "name": "stdout",
          "text": [
            "A: tensor([[-0.2386, -1.0934,  0.1558,  0.1750],\n",
            "        [-0.9526, -0.5442,  1.1985,  0.9604],\n",
            "        [-1.1074, -0.8403, -0.0020,  0.2240],\n",
            "        [ 0.8766, -0.5379, -0.2994,  0.9785]]) \n",
            "\n",
            "vec: tensor([ 0.6542,  0.0754, -1.0767,  0.1269])\n",
            "\n",
            "Av: tensor([-0.3842, -1.8328, -0.7573,  0.9795])\n"
          ]
        }
      ]
    },
    {
      "cell_type": "code",
      "source": [
        "# Creating a Dense Operator\n",
        "A = cola.ops.Dense(A_dense)\n",
        "print(type(A))"
      ],
      "metadata": {
        "colab": {
          "base_uri": "https://localhost:8080/"
        },
        "id": "4JFIJwV0dA26",
        "outputId": "58ce07cc-cfc5-4522-8d05-56c5fc1008dd"
      },
      "execution_count": 8,
      "outputs": [
        {
          "output_type": "stream",
          "name": "stdout",
          "text": [
            "<class 'cola.ops.operators.Dense'>\n"
          ]
        }
      ]
    },
    {
      "cell_type": "code",
      "source": [
        "# Checking the Operator Results the Same as the Dense Matrix\n",
        "print(f\"Dtype: {A.dtype} | Shape: {A.shape}\")\n",
        "print(A @ vec)"
      ],
      "metadata": {
        "colab": {
          "base_uri": "https://localhost:8080/"
        },
        "id": "OcCSWd7Yd0-g",
        "outputId": "2b2bbc54-da77-44e2-f548-b90b885f730e"
      },
      "execution_count": 9,
      "outputs": [
        {
          "output_type": "stream",
          "name": "stdout",
          "text": [
            "Dtype: torch.float32 | Shape: torch.Size([4, 4])\n",
            "tensor([-0.3842, -1.8328, -0.7573,  0.9795])\n"
          ]
        }
      ]
    },
    {
      "cell_type": "code",
      "source": [
        "# Large structured Linear Operators (memory and cost efficient)\n",
        "ones = torch.ones(300)\n",
        "upper = ones[:-1]\n",
        "lower = ones[:-1]\n",
        "diagonal= -2*ones\n",
        "\n",
        "T = cola.ops.Tridiagonal(lower, diagonal, upper)\n",
        "print(f\"{T[:3,:3].to_dense()} \\nType: {T}\")"
      ],
      "metadata": {
        "colab": {
          "base_uri": "https://localhost:8080/"
        },
        "id": "zgBElzlJek3C",
        "outputId": "9e108092-890d-46f1-8fb5-1f24b9a1a467"
      },
      "execution_count": 10,
      "outputs": [
        {
          "output_type": "stream",
          "name": "stdout",
          "text": [
            "tensor([[-2.,  1.,  0.],\n",
            "        [ 1., -2.,  1.],\n",
            "        [ 0.,  1., -2.]]) \n",
            "Type: Tridiagonal\n"
          ]
        }
      ]
    },
    {
      "cell_type": "code",
      "source": [
        "perm = torch.randperm(200)\n",
        "P = cola.ops.Permutation(perm)\n",
        "v = torch.randn(200)\n",
        "print((P @ v)[:5], v[perm[:5]])"
      ],
      "metadata": {
        "colab": {
          "base_uri": "https://localhost:8080/"
        },
        "id": "3zykn2T9gjnr",
        "outputId": "82da6fb7-8b02-4982-fde6-9f7971e85947"
      },
      "execution_count": 11,
      "outputs": [
        {
          "output_type": "stream",
          "name": "stdout",
          "text": [
            "tensor([-0.4161, -0.2753,  1.9718,  0.0790, -0.1104]) tensor([-0.4161, -0.2753,  1.9718,  0.0790, -0.1104])\n"
          ]
        }
      ]
    },
    {
      "cell_type": "markdown",
      "source": [
        "# Doing Binary Operations with Linear Ops"
      ],
      "metadata": {
        "id": "dw4gYbxhhffj"
      }
    },
    {
      "cell_type": "code",
      "source": [
        "# Combine linear ops\n",
        "D = cola.ops.Diagonal(torch.tensor([1, 2, 3, 4.]))\n",
        "DT = T[:4, :4] - D\n",
        "print(DT.to_dense())"
      ],
      "metadata": {
        "colab": {
          "base_uri": "https://localhost:8080/"
        },
        "id": "fv8G4G6Cg_oS",
        "outputId": "dbec79b5-41b3-443d-a526-794746ebd0be"
      },
      "execution_count": 12,
      "outputs": [
        {
          "output_type": "stream",
          "name": "stdout",
          "text": [
            "tensor([[-3.,  1.,  0.,  0.],\n",
            "        [ 1., -4.,  1.,  0.],\n",
            "        [ 0.,  1., -5.,  1.],\n",
            "        [ 0.,  0.,  1., -6.]])\n"
          ]
        }
      ]
    },
    {
      "cell_type": "markdown",
      "source": [
        "Making $B= A^T(T_{[:4,:4]}-D) + \\mu I$ (regularized by $\\mu$) by using previous mentioned operators."
      ],
      "metadata": {
        "id": "Ex4n8RtcjC68"
      }
    },
    {
      "cell_type": "code",
      "source": [
        "mu = 1e-6\n",
        "B = A.T @ DT\n",
        "B += mu * cola.ops.I_like(B)\n",
        "print(f\"Object: {B}\\n {B.to_dense()}\")"
      ],
      "metadata": {
        "colab": {
          "base_uri": "https://localhost:8080/"
        },
        "id": "0xwfu-Bki2AD",
        "outputId": "d6372fd9-c1e4-4bb7-cb56-5641f56d8b78"
      },
      "execution_count": 13,
      "outputs": [
        {
          "output_type": "stream",
          "name": "stdout",
          "text": [
            "Object: DenseTridiagonal[slice(None, 4, None),slice(None, 4, None)]+-1.0diag(tensor([1., 2., 3., 4.]))+9.999999974752427e-07I\n",
            " tensor([[-0.2368,  2.4642,  5.4611, -6.3671],\n",
            "        [ 2.7361,  0.2431,  3.1194,  2.3872],\n",
            "        [ 0.7310, -4.6402,  0.9091,  1.7946],\n",
            "        [ 0.4354, -3.4425,  0.8188, -5.6472]])\n"
          ]
        }
      ]
    },
    {
      "cell_type": "markdown",
      "source": [
        "Linear Operators can also be combined in more involved ways\n",
        "- kron\n",
        "- block_diag\n",
        "- concatenate"
      ],
      "metadata": {
        "id": "vcSOrcFVkJnM"
      }
    },
    {
      "cell_type": "code",
      "source": [
        "# Kronecker\n",
        "K = cola.kron(A, D)\n",
        "print(f\"{K[:5,:5].to_dense()}\\n\\nshape: {K.shape},\\n\\nobject: {K}\")"
      ],
      "metadata": {
        "colab": {
          "base_uri": "https://localhost:8080/"
        },
        "id": "1cM5EhnZj7oD",
        "outputId": "cf515e91-3cab-4a7a-b4c4-7520e00c09b7"
      },
      "execution_count": 14,
      "outputs": [
        {
          "output_type": "stream",
          "name": "stdout",
          "text": [
            "tensor([[-0.2386,  0.0000,  0.0000,  0.0000, -1.0934],\n",
            "        [ 0.0000, -0.4772,  0.0000,  0.0000,  0.0000],\n",
            "        [ 0.0000,  0.0000, -0.7157,  0.0000,  0.0000],\n",
            "        [ 0.0000,  0.0000,  0.0000, -0.9543,  0.0000],\n",
            "        [-0.9526,  0.0000,  0.0000,  0.0000, -0.5442]])\n",
            "\n",
            "shape: (16, 16),\n",
            "\n",
            "object: Dense⊗diag(tensor([1., 2., 3., 4.]))\n"
          ]
        }
      ]
    },
    {
      "cell_type": "code",
      "source": [
        "# Block Diagonal\n",
        "d = 1 / (1 + torch.linspace(.2, 10, 1000))\n",
        "X = cola.block_diag(cola.kron(A, P), T, cola.ops.Diagonal(d))\n",
        "X"
      ],
      "metadata": {
        "colab": {
          "base_uri": "https://localhost:8080/"
        },
        "id": "Kc1uf9cHkh17",
        "outputId": "1c7054e7-232f-48e6-8c50-bb3781c75b4b"
      },
      "execution_count": 15,
      "outputs": [
        {
          "output_type": "execute_result",
          "data": {
            "text/plain": [
              "<2100x2100 BlockDiag[cola.ops.operators.Kronecker[cola.ops.operators.Dense, cola.ops.operators.Permutation], cola.ops.operators.Tridiagonal, cola.ops.operators.Diagonal] with dtype=torch.float32>"
            ]
          },
          "metadata": {},
          "execution_count": 15
        }
      ]
    },
    {
      "cell_type": "markdown",
      "source": [
        "# Computing Linaear Algebra Operations\n",
        "- solves\n",
        "- logdet\n",
        "- diag\n",
        "- exp\n",
        "- and the list is long"
      ],
      "metadata": {
        "id": "js6-fPtMlpLg"
      }
    },
    {
      "cell_type": "markdown",
      "source": [
        "Solve the linear system $Bx=v$ :"
      ],
      "metadata": {
        "id": "uNbHBGObmoO5"
      }
    },
    {
      "cell_type": "code",
      "source": [
        "X[:, :5].to_dense().shape"
      ],
      "metadata": {
        "colab": {
          "base_uri": "https://localhost:8080/"
        },
        "id": "AvKuYiOelR1Y",
        "outputId": "22f2f2f6-7027-4c1c-c56d-bf3c2cde787a"
      },
      "execution_count": 16,
      "outputs": [
        {
          "output_type": "execute_result",
          "data": {
            "text/plain": [
              "torch.Size([2100, 5])"
            ]
          },
          "metadata": {},
          "execution_count": 16
        }
      ]
    },
    {
      "cell_type": "code",
      "source": [
        "X_inv = cola.inv(X)\n",
        "v = torch.randn(X.shape[-1])\n",
        "soln = X_inv @ v\n",
        "print(f\"Solution error: {torch.linalg.norm(X @ soln - v)/torch.linalg.norm(v):.2e}\")"
      ],
      "metadata": {
        "colab": {
          "base_uri": "https://localhost:8080/"
        },
        "id": "yIFkpZGUms0q",
        "outputId": "4ac279d3-39c6-4563-f367-c06961d3bdb1"
      },
      "execution_count": 17,
      "outputs": [
        {
          "output_type": "stream",
          "name": "stdout",
          "text": [
            "Solution error: 4.37e-06\n"
          ]
        }
      ]
    },
    {
      "cell_type": "code",
      "source": [
        "print(f\"CoLA logdet: {cola.logdet(X):.3f} \\ndense logdet {torch.logdet(X.to_dense()):.3f}\")"
      ],
      "metadata": {
        "id": "gUaM_KPznG06",
        "colab": {
          "base_uri": "https://localhost:8080/"
        },
        "outputId": "fa32830c-6564-40fe-d182-05bbb3346de2"
      },
      "execution_count": 18,
      "outputs": [
        {
          "output_type": "stream",
          "name": "stdout",
          "text": [
            "CoLA logdet: -1564.690 \n",
            "dense logdet -1564.690\n"
          ]
        }
      ]
    },
    {
      "cell_type": "code",
      "source": [
        "print(f\"CoLA diag: {cola.diag(X)[-5:]}\\ndense diag: {torch.diag(X.to_dense())[-5:]}\")"
      ],
      "metadata": {
        "id": "StmAsSuUnN-D",
        "colab": {
          "base_uri": "https://localhost:8080/"
        },
        "outputId": "7313f77e-100c-4331-f3a7-703e6d1b3baa"
      },
      "execution_count": 19,
      "outputs": [
        {
          "output_type": "stream",
          "name": "stdout",
          "text": [
            "CoLA diag: tensor([0.0912, 0.0912, 0.0911, 0.0910, 0.0909])\n",
            "dense diag: tensor([0.0912, 0.0912, 0.0911, 0.0910, 0.0909])\n"
          ]
        }
      ]
    },
    {
      "cell_type": "code",
      "source": [
        "from scipy.linalg import expm\n",
        "scipy_expm = expm((T.to_dense()).numpy())\n",
        "print(f\"CoLA exp(X):\\n {cola.exp(T)[-5:,-5:].to_dense().real}\\n\\nscipy expm:\\n {scipy_expm[-5:,-5:]}\")"
      ],
      "metadata": {
        "id": "nYd6nOFInfIa",
        "colab": {
          "base_uri": "https://localhost:8080/"
        },
        "outputId": "feeb98cb-dbef-4289-a992-48cf786ce90b"
      },
      "execution_count": 20,
      "outputs": [
        {
          "output_type": "stream",
          "name": "stdout",
          "text": [
            "CoLA exp(X):\n",
            " tensor([[0.3085, 0.2153, 0.0932, 0.0288, 0.0066],\n",
            "        [0.2153, 0.3085, 0.2152, 0.0930, 0.0275],\n",
            "        [0.0932, 0.2152, 0.3083, 0.2139, 0.0864],\n",
            "        [0.0288, 0.0930, 0.2139, 0.3016, 0.1865],\n",
            "        [0.0066, 0.0275, 0.0864, 0.1865, 0.2153]])\n",
            "\n",
            "scipy expm:\n",
            " [[0.30850834 0.21526879 0.09323523 0.02876082 0.0066488 ]\n",
            " [0.2152689  0.30850446 0.2152388  0.09302247 0.02746145]\n",
            " [0.09323529 0.21523878 0.30829173 0.21393949 0.08637363]\n",
            " [0.02876082 0.09302244 0.2139395  0.30164295 0.18647799]\n",
            " [0.0066488  0.02746145 0.08637366 0.18647805 0.21526927]]\n"
          ]
        }
      ]
    },
    {
      "cell_type": "code",
      "source": [
        "from cola import Auto, Arnoldi\n",
        "print(f\"CoLA exp(X):\\n {cola.exp(T, alg=Arnoldi())[-5:,-5:].to_dense().real}\\n\\nscipy expm:\\n {scipy_expm[-5:,-5:]}\")"
      ],
      "metadata": {
        "id": "ESAwcxvInzIy",
        "colab": {
          "base_uri": "https://localhost:8080/"
        },
        "outputId": "86520edf-d44b-4bf8-e90d-b2e4f939e41e"
      },
      "execution_count": 21,
      "outputs": [
        {
          "output_type": "stream",
          "name": "stdout",
          "text": [
            "CoLA exp(X):\n",
            " tensor([[0.3085, 0.2153, 0.0932, 0.0288, 0.0066],\n",
            "        [0.2153, 0.3085, 0.2152, 0.0930, 0.0275],\n",
            "        [0.0932, 0.2152, 0.3083, 0.2139, 0.0864],\n",
            "        [0.0288, 0.0930, 0.2139, 0.3016, 0.1865],\n",
            "        [0.0066, 0.0275, 0.0864, 0.1865, 0.2153]])\n",
            "\n",
            "scipy expm:\n",
            " [[0.30850834 0.21526879 0.09323523 0.02876082 0.0066488 ]\n",
            " [0.2152689  0.30850446 0.2152388  0.09302247 0.02746145]\n",
            " [0.09323529 0.21523878 0.30829173 0.21393949 0.08637363]\n",
            " [0.02876082 0.09302244 0.2139395  0.30164295 0.18647799]\n",
            " [0.0066488  0.02746145 0.08637366 0.18647805 0.21526927]]\n"
          ]
        }
      ]
    },
    {
      "cell_type": "code",
      "source": [
        "C = X.T @ X\n",
        "# let's annotate this matrix as positive definite to speed up the computation\n",
        "C = cola.PSD(C)\n",
        "e, v = cola.eig(C, k=3, which=\"SM\", alg=Auto(max_iters=500))\n",
        "print(e, torch.linalg.eigh(C.to_dense())[0][:3])"
      ],
      "metadata": {
        "id": "r6HR9mnUoG0C",
        "colab": {
          "base_uri": "https://localhost:8080/"
        },
        "outputId": "c007b835-682b-4471-ad17-3e325e345397"
      },
      "execution_count": 22,
      "outputs": [
        {
          "output_type": "stream",
          "name": "stdout",
          "text": [
            "tensor([2.5141e-06, 5.8988e-05, 1.5934e-04]) tensor([-1.8150e-07,  3.0996e-07,  1.9444e-06])\n"
          ]
        }
      ]
    },
    {
      "cell_type": "code",
      "source": [
        "e, v = cola.eig(C, k=3, which=\"LM\", alg=Auto(max_iters=500))\n",
        "print(e, torch.linalg.eigh(C.to_dense())[0][-3:])"
      ],
      "metadata": {
        "id": "D0obhhWJopGC",
        "colab": {
          "base_uri": "https://localhost:8080/"
        },
        "outputId": "53d1c436-db61-4b9e-8122-cfd013ca2543"
      },
      "execution_count": 23,
      "outputs": [
        {
          "output_type": "stream",
          "name": "stdout",
          "text": [
            "tensor([15.9922, 15.9965, 15.9991]) tensor([15.9922, 15.9965, 15.9991])\n"
          ]
        }
      ]
    },
    {
      "cell_type": "markdown",
      "source": [
        "# Some Linear Algebra Functionality\n",
        "- Inverse\n",
        "- Matrix Functions\n",
        "- Trace and Diagonal Estimation\n",
        "- Log Determinants\n",
        "- Eigendecompositon"
      ],
      "metadata": {
        "id": "PnYZ8zuPqxpP"
      }
    },
    {
      "cell_type": "markdown",
      "source": [
        "Various linear algebra operations with an emphasis on the dense and iterative base cases, rather than the dispatch rules.\n",
        "\n",
        "Some high level operations like `solve`, `sqrt`, `logdet`, `eigs`, `exp`, `trace`.\n",
        "\n",
        "Some low level iterative functions helps implementing high level operations such as `cg`, `gmres`, `lanczos`, `approx_diag`, `stochastic_lanczos_quadrature`. Low level algorithms can also be called explicitly, will not be able to leverage dispatch rules.\n"
      ],
      "metadata": {
        "id": "eX6tTDRUsk2B"
      }
    },
    {
      "cell_type": "markdown",
      "source": [
        "Set up some Linear operators to test these operations on. As we want to focus on the base cases, we will use a simple low rank + diagonal linear operator. We will use $A=UU^T+D$ as a prototype for a PSD matrix, $B=UV^T+D$ as a prototype for a generic square matrix, and $C=V^TD$ as a prototype for a generic rectangular matrix."
      ],
      "metadata": {
        "id": "MdjjEGJ9uB-u"
      }
    },
    {
      "cell_type": "code",
      "source": [
        "# initializing sample data\n",
        "N = 200\n",
        "U = cola.lazify(torch.randn(N, 5))\n",
        "V = cola.lazify(torch.randn(N, 5))\n",
        "D = cola.ops.Diagonal(torch.linspace(1, 100, N))\n",
        "\n",
        "A = U @ U.T + D  # a PSD matrix\n",
        "B = U @ V.T + D  # a generic square matrix\n",
        "C = V.T @ D  # a generic rectangular matrix\n",
        "\n",
        "x = torch.ones(N)  # test vector x"
      ],
      "metadata": {
        "id": "ku3Z90kdo99S"
      },
      "execution_count": 24,
      "outputs": []
    },
    {
      "cell_type": "code",
      "source": [
        "# Setting matrix A as a PSD\n",
        "print(\"Properties before annotating:\", A.annotations)\n",
        "A = cola.PSD(A)\n",
        "print(\"Properties after annotating:\", A.annotations)"
      ],
      "metadata": {
        "id": "D9PHVupKuWEj",
        "colab": {
          "base_uri": "https://localhost:8080/"
        },
        "outputId": "a694a6ad-f890-4bbb-d72c-5325df965b88"
      },
      "execution_count": 25,
      "outputs": [
        {
          "output_type": "stream",
          "name": "stdout",
          "text": [
            "Properties before annotating: set()\n",
            "Properties after annotating: {PSD}\n"
          ]
        }
      ]
    },
    {
      "cell_type": "code",
      "source": [
        "# Plot the spectrum of  A  to get a sense for the kind of object that we are dealing\n",
        "plt.plot(torch.linalg.eigh(A.to_dense())[0])\n",
        "plt.yscale('log')\n",
        "plt.ylabel(\"eigenvalues\")\n",
        "plt.xlabel(\"index\")\n",
        "plt.grid()\n",
        "plt.show()"
      ],
      "metadata": {
        "id": "hkMHqe9wu8Vi",
        "colab": {
          "base_uri": "https://localhost:8080/",
          "height": 449
        },
        "outputId": "1c4b3ef7-1fd6-4714-f9e1-a1549b7658b5"
      },
      "execution_count": 26,
      "outputs": [
        {
          "output_type": "display_data",
          "data": {
            "text/plain": [
              "<Figure size 640x480 with 1 Axes>"
            ],
            "image/png": "[encoded data removed]"
          },
          "metadata": {}
        }
      ]
    },
    {
      "cell_type": "markdown",
      "source": [
        "## Inverses / Linear Solves\n",
        "\n",
        "For solving a linear system $Ax=b$, we may consider two cases where $A$ is a Positive-SemiDefinite symmetric matrix (PSD), and when it is not.\n",
        "\n",
        "`cola.linalg.inv(A)` represents the linear operator $A^{-1}$ that, when applied to a vector $b$, it solves the linear system $A x = b$ and then outputs $x$.\n",
        "It does not, however, compute the inverse densely $A^{-1}$ and then multiply it by the vector $b$, and is exactly equivalent to calling `cola.linalg.solve`.\n"
      ],
      "metadata": {
        "id": "0pTLneRy0LAD"
      }
    },
    {
      "cell_type": "code",
      "source": [],
      "metadata": {
        "id": "BVt9cnW9vRSa"
      },
      "execution_count": 26,
      "outputs": []
    },
    {
      "cell_type": "markdown",
      "source": [
        "### PSD"
      ],
      "metadata": {
        "id": "2sZ8MIAI0ye1"
      }
    },
    {
      "cell_type": "code",
      "source": [
        "# these two are exactly equivalent in CoLA\n",
        "y = cola.linalg.solve(A, x)\n",
        "y = cola.linalg.inv(A) @ x"
      ],
      "metadata": {
        "id": "AOBDgNjI016h"
      },
      "execution_count": 27,
      "outputs": []
    },
    {
      "cell_type": "markdown",
      "source": [
        "However with `cola.linalg.inv` we can examine the properties of the solve like the number of iterations it as taken to converge. Instead using the default `alg=Auto()`, let's explicitly pick `alg=Cholesky()` to use a dense $O(n^3)$ method or `alg=CG()` to use an iterative $O(\\tau \\sqrt{\\kappa}\\log 1/\\epsilon)$ where $\\tau$ is the time for an MVM with $A$, $\\kappa$ is the condition number of $A$ and $\\epsilon$ is the desired error tolerance."
      ],
      "metadata": {
        "id": "b0Em2elO1Imm"
      }
    },
    {
      "cell_type": "code",
      "source": [
        "for alg in [cola.Cholesky(), cola.CG()]:\n",
        "    Ainv = cola.linalg.inv(A, alg=alg)\n",
        "    y = Ainv @ x\n",
        "    print(f\"With {alg}: Ainv of type {type(Ainv)}\")\n",
        "    if isinstance(alg, cola.CG):\n",
        "        print(f\"Computed inverse in {Ainv.info['iterations']} iters with error {Ainv.info['errors'][-1]:.1e}\")"
      ],
      "metadata": {
        "id": "6DnPoc3507Kg",
        "colab": {
          "base_uri": "https://localhost:8080/"
        },
        "outputId": "afcf4fd9-d23c-4ecb-db4b-e3b39f5613f5"
      },
      "execution_count": 28,
      "outputs": [
        {
          "output_type": "stream",
          "name": "stdout",
          "text": [
            "With <cola.linalg.decompositions.decompositions.Cholesky object at 0x7db029217970>: Ainv of type <class 'cola.ops.operators.Product[cola.linalg.inverse.inv.TriangularInv[cola.ops.operators.Triangular], cola.linalg.inverse.inv.TriangularInv[cola.ops.operators.Triangular]]'>\n",
            "With CG(tol=1e-06, max_iters=1000, pbar=False, x0=None, P=None): Ainv of type <class 'cola.linalg.algorithm_base.IterativeOperatorWInfo[cola.ops.operators.Sum[cola.ops.operators.Product[cola.ops.operators.Dense, cola.ops.operators.Dense], cola.ops.operators.Diagonal], cola.linalg.inverse.cg.CG]'>\n",
            "Computed inverse in 64 iters with error 1.7e-06\n"
          ]
        }
      ]
    },
    {
      "cell_type": "markdown",
      "source": [
        "In the dense case the `inverse` LinearOperator is computed via Cholesky decomposition\n",
        "$A = LL^T$, and then using $A^{-1} = L^{-T}L^{-1}$ where $L^{-1}$ simply means a Linear Operator that performs triangular solves with $L$. We can see this reflected in the type of `Ainv`.\n",
        "\n",
        "Meanwhile the iterative algorithm uses Conjugate Gradients to perform multiplies with $A^{-1}$. With the iterative methods one often may want to specify an error tolerance or a maximum number of iterations to limit the computation."
      ],
      "metadata": {
        "id": "2dqGRZFz1ve2"
      }
    },
    {
      "cell_type": "code",
      "source": [
        "# specify an error tolerance\n",
        "Ainv = cola.linalg.inv(A, cola.CG(tol=1e-8, max_iters=1_000))\n",
        "y = Ainv @ x\n",
        "print(f\"Computed inverse in {Ainv.info['iterations']} iters with error {Ainv.info['errors'][-1]:.1e}\")"
      ],
      "metadata": {
        "id": "NqqivPR91cKS",
        "colab": {
          "base_uri": "https://localhost:8080/"
        },
        "outputId": "2c33b438-f8b5-4f9a-e0a7-3b7fa8a03453"
      },
      "execution_count": 29,
      "outputs": [
        {
          "output_type": "stream",
          "name": "stdout",
          "text": [
            "Computed inverse in 83 iters with error 1.4e-08\n"
          ]
        }
      ]
    },
    {
      "cell_type": "markdown",
      "source": [
        "### Non PSD\n",
        "Same functions but with the non PSD operator $B$."
      ],
      "metadata": {
        "id": "fmKX2m0S2I-4"
      }
    },
    {
      "cell_type": "code",
      "source": [
        "for alg in [cola.LU(), cola.GMRES(tol=1e-3, max_iters=100)]:\n",
        "    Binv = cola.linalg.inv(B, alg=alg)\n",
        "    y = Binv @ x\n",
        "    print(f\"With {alg}: Ainv of type {type(Binv)}\")\n",
        "    if isinstance(alg, cola.GMRES):\n",
        "        print(f\"Computed inverse in {Binv.info['iterations']} iters with error {Binv.info['errors'][-1]:.1e}\")\n",
        "\n",
        "print(f\"Actual residual error: {torch.linalg.norm(B @ y - x) / torch.linalg.norm(x):1.3e}\")"
      ],
      "metadata": {
        "id": "b_q5GlWi17rj",
        "colab": {
          "base_uri": "https://localhost:8080/"
        },
        "outputId": "8f12bf00-79d7-4fc2-95a9-7c79ca97d6ee"
      },
      "execution_count": 30,
      "outputs": [
        {
          "output_type": "stream",
          "name": "stdout",
          "text": [
            "With <cola.linalg.decompositions.decompositions.LU object at 0x7db0293f23e0>: Ainv of type <class 'cola.ops.operators.Product[cola.linalg.inverse.inv.TriangularInv[cola.ops.operators.Triangular], cola.linalg.inverse.inv.TriangularInv[cola.ops.operators.Triangular], cola.ops.operators.Permutation]'>\n",
            "With GMRES(tol=0.001, max_iters=100, pbar=False, x0=None, P=None): Ainv of type <class 'cola.linalg.algorithm_base.IterativeOperatorWInfo[cola.ops.operators.Sum[cola.ops.operators.Product[cola.ops.operators.Dense, cola.ops.operators.Dense], cola.ops.operators.Diagonal], cola.linalg.inverse.gmres.GMRES]'>\n",
            "Computed inverse in 101 iters with error 2.3e+01\n",
            "Actual residual error: 1.941e-04\n"
          ]
        }
      ]
    },
    {
      "cell_type": "markdown",
      "source": [
        "In the first case, CoLA performs a PLU decomposition $B=P^{-1}LU$ and then computes the inverse as $U^{-1}L^{-1}P$ again using the implicit triangular solves, but this time combined with a permutation inverse.\n",
        "\n",
        "In the second case, CoLA uses GMRES. Notably GMRES uses Arnoldi as a component of the algorithm, and the convergence criteria for Arnoldi depends on more than just residual errors that we care about for the linear solve. As a result of this more stringent convergence criteria, GMRES hits `max_iters` before stopping from the Arnoldi convergence tolerance, and the errors can be more easily controlled via changing `max_iters`.\n",
        "\n",
        "**Note:** In general CG has much more favorable properties over GMRES since with GMRES the memory requirement will grow with the number of iterations as will the compute, and hence if a matrix is PSD annotating it as such is highly preferable."
      ],
      "metadata": {
        "id": "yn3PzU2K3FXH"
      }
    },
    {
      "cell_type": "markdown",
      "source": [
        "## Matrix Functions:\n",
        "\n",
        "Broadly we can consider many functions linear algebra operations $A^{1/2}$, $\\exp(A)$, $\\log(A)$\n",
        "as instances of $f(A)$ where $f$ is assumed to have a convergent Taylor expansion within the bounds of the spectrum of $A$.\n",
        "\n",
        "For `alg = Auto()`, we compute these functions performing an eigendecomposition $A=P\\Lambda P^{-1}$ and evaluate $f(A)=P f(\\Lambda) P^{-1}$, and this runs in time $O(n^3)$.\n",
        "\n",
        "For `alg = Lanczos()` or `alg = Arnoldi()`, we evaluate matrix vector products $f(A)v$ using the Lanczos and Arnoldi processes starting with the vector $v$. Running in time $O(\\tau \\sqrt{\\kappa}\\log 1/\\epsilon+m^3+mn)$ where $m$ is `max_iters`, this approach gives $\\epsilon$ accurate evaluation of $f(A)v$.\n",
        "\n",
        "**Possibility:** With some extra effort the $m^3$ term can be reduced to $m^2$.\n",
        "\n",
        "**Note:** For different $v$ the process will be run again, as Lanczos needs $v$ to construct a low error approximation."
      ],
      "metadata": {
        "id": "UlhYabK33V3K"
      }
    },
    {
      "cell_type": "markdown",
      "source": [
        "### SelfAdjoint\n",
        "\n",
        "Whether CoLA uses the more efficient Lanczos process or more costly version using Arnoldi depends on whether or not the matrix is `SelfAdjoint` (which guarantees an orthogonal eigenbasis).\n",
        "\n",
        "**Note:** `SelfAdjoint` is considered a superset of `PSD`."
      ],
      "metadata": {
        "id": "1ATYjvja4qfH"
      }
    },
    {
      "cell_type": "code",
      "source": [
        "# checking self-adjointness\n",
        "print(A.annotations)\n",
        "print(f\"PSD: {A.isa(cola.PSD)}, SelfAdjoint: {A.isa(cola.SelfAdjoint)}\")"
      ],
      "metadata": {
        "id": "7-075TdL4evB",
        "colab": {
          "base_uri": "https://localhost:8080/"
        },
        "outputId": "72c5ef70-343e-41cb-d195-4a5def5f650b"
      },
      "execution_count": 31,
      "outputs": [
        {
          "output_type": "stream",
          "name": "stdout",
          "text": [
            "{PSD}\n",
            "PSD: True, SelfAdjoint: True\n"
          ]
        }
      ]
    },
    {
      "cell_type": "code",
      "source": [
        "for alg in [cola.Auto(), cola.Lanczos(tol=1e-4, max_iters=100)]:\n",
        "    S = cola.linalg.sqrt(A, alg=alg)\n",
        "    print(f\"S with method={alg} is of type {type(S)}\")\n",
        "    print(\"error in sqrt:\", torch.linalg.norm(S @ (S @ x) - A @ x) / torch.linalg.norm(A @ x))"
      ],
      "metadata": {
        "id": "Vo2fmaZf5VFa",
        "colab": {
          "base_uri": "https://localhost:8080/"
        },
        "outputId": "da259308-fce5-43fa-a71b-84c0bba6d05b"
      },
      "execution_count": 32,
      "outputs": [
        {
          "output_type": "stream",
          "name": "stdout",
          "text": [
            "S with method=Auto() is of type <class 'cola.ops.operators.Product[cola.ops.operators.Dense, cola.ops.operators.Diagonal, cola.ops.operators.Dense]'>\n",
            "error in sqrt: tensor(1.7582e-06)\n",
            "S with method=Lanczos(start_vector=None, max_iters=100, tol=0.0001, pbar=False, key=None) is of type <class 'cola.linalg.unary.unary.LanczosUnary[cola.ops.operators.Sum[cola.ops.operators.Product[cola.ops.operators.Dense, cola.ops.operators.Dense], cola.ops.operators.Diagonal], function]'>\n",
            "error in sqrt: tensor(1.4695e-06)\n"
          ]
        }
      ]
    },
    {
      "cell_type": "code",
      "source": [
        "# using exp, log, pow, and apply_fn\n",
        "expA = cola.linalg.exp(-A)\n",
        "logA = cola.linalg.log(A)\n",
        "Apow10 = cola.linalg.pow(A, 10)\n",
        "resolvent = cola.linalg.apply_unary(lambda x: 1 / (x - 1), A)\n",
        "for op in [expA, logA, Apow10, resolvent]:\n",
        "    print(op[:2, :2].to_dense())"
      ],
      "metadata": {
        "id": "U8DxItsY5a16",
        "colab": {
          "base_uri": "https://localhost:8080/"
        },
        "outputId": "2bcb2fd4-8ffe-45a9-faad-28e90c2139c7"
      },
      "execution_count": 33,
      "outputs": [
        {
          "output_type": "stream",
          "name": "stdout",
          "text": [
            "tensor([[ 0.2528, -0.0429],\n",
            "        [-0.0429,  0.1030]])\n",
            "tensor([[0.4299, 0.2000],\n",
            "        [0.2000, 1.0319]])\n",
            "tensor([[2.8579e+22, 1.3096e+22],\n",
            "        [1.3096e+22, 4.5881e+22]])\n",
            "tensor([[ 3.1854, -0.6564],\n",
            "        [-0.6564,  0.8918]])\n"
          ]
        }
      ]
    },
    {
      "cell_type": "markdown",
      "source": [
        "### Non SelfAdjoint\n",
        "For non self adjoint matrices the situation is the same, but it will use Arnoldi iterations. However, some of the operations like `log` and `sqrt` require that eigenvalues are $>0$ (positive) and may return Nan, Inf, or complex values depending on the inputs."
      ],
      "metadata": {
        "id": "V9N5aHVe6KfF"
      }
    },
    {
      "cell_type": "code",
      "source": [
        "ops = [cola.linalg.sqrt(B), cola.linalg.exp(-B), cola.linalg.pow(B, 10)]\n",
        "for op in ops:\n",
        "    print(op[:2, :2].to_dense())"
      ],
      "metadata": {
        "id": "XPBn33pq58ZT",
        "colab": {
          "base_uri": "https://localhost:8080/"
        },
        "outputId": "89aea577-9df2-4807-dfff-206724acfc80"
      },
      "execution_count": 34,
      "outputs": [
        {
          "output_type": "stream",
          "name": "stdout",
          "text": [
            "tensor([[1.2014+1.0990e-07j, 1.6245-2.6822e-07j],\n",
            "        [0.6035+1.6391e-07j, 1.0500+2.9802e-08j]])\n",
            "tensor([[ 0.4859-4.6566e-09j, -0.6837+3.9814e-08j],\n",
            "        [-0.1905-2.3283e-10j,  0.3737-3.6089e-08j]])\n",
            "tensor([[ 4.7804e+17-1.9327e+10j,  2.9943e+17-2.5126e+11j],\n",
            "        [-8.5153e+16-3.8655e+10j, -1.7041e+17+1.0952e+11j]])\n"
          ]
        }
      ]
    },
    {
      "cell_type": "markdown",
      "source": [
        "## Trace and Diagonal estimation\n",
        "\n",
        "Unlike for dense matrices, evaluating the trace or diagonal of a `LinearOperators` can be difficult (consider for example the diagonal of the Hessian of a neural network). Depending on the needs for the problem at hand, multiple different solutions provided:\n",
        "- an exact $O(n\\tau)$ compute and $O(\\tau)$ memory evaluation which loops over the basis elements $A_{ii} = e_i^TAe_i$\n",
        "- an stochastic Hutchinson estimator which is unbiased (always), but has runtime $O(1/\\delta^2)$ where $\\delta$ is the desired tolerance for the standard deviation of the estimate.\n",
        "\n",
        "These can be chosen directly by specifying `alg = Exact()`, `alg = Hutch()` or by letting the algorithm decide which will be faster `alg = Auto()` based on the specified tolerance for the standard deviation `tol`. In general for methods which only need stochastic estimates (such as to be used in SGD) or only need one or two digits of precision, then the stochastic estimator will be faster.\n",
        "\n",
        "We can use either of these two methods for\n",
        "- computing the trace\n",
        "- computing the diagonal\n",
        "- computing off-diagonal diagonals"
      ],
      "metadata": {
        "id": "qMHYCVmC6-H4"
      }
    },
    {
      "cell_type": "code",
      "source": [
        "# using Exact() and Hutch()\n",
        "exact = cola.linalg.trace(A, alg=cola.Exact())\n",
        "approx = cola.linalg.trace(A, alg=cola.Hutch(tol=3e-2))\n",
        "print(f\"exact trace: {exact},\\nstochastic trace: {approx}\")"
      ],
      "metadata": {
        "id": "G3VQ4shc7i-5",
        "colab": {
          "base_uri": "https://localhost:8080/"
        },
        "outputId": "a7720203-e281-421a-ee25-de7eb4c5181a"
      },
      "execution_count": 35,
      "outputs": [
        {
          "output_type": "stream",
          "name": "stdout",
          "text": [
            "exact trace: 11104.7470703125,\n",
            "stochastic trace: 11105.77734375\n"
          ]
        }
      ]
    },
    {
      "cell_type": "code",
      "source": [
        "# diagonal and off-diagonal\n",
        "diag = cola.linalg.diag(A)\n",
        "off_diag = cola.linalg.diag(A, k=1)\n",
        "print(f\"diagonal: {diag}\")\n",
        "print(f\"off-diagonal: {off_diag}\")"
      ],
      "metadata": {
        "id": "XHq1_Aq77sxF",
        "colab": {
          "base_uri": "https://localhost:8080/"
        },
        "outputId": "635e3a8f-b882-489b-bd6b-27267a1cf542"
      },
      "execution_count": 36,
      "outputs": [
        {
          "output_type": "stream",
          "name": "stdout",
          "text": [
            "diagonal: tensor([  5.1523,   9.3551,   6.3290,   5.2218,   7.9162,   4.7325,  14.4950,\n",
            "         10.7984,  21.1288,   8.7075,   8.5630,  13.3638,  11.4444,  12.4921,\n",
            "         13.5327,  12.9951,  13.0147,  10.6328,  14.5388,  15.2480,  13.1034,\n",
            "         16.4491,  15.6983,  14.2193,  15.3719,  17.0794,  21.0295,  16.3371,\n",
            "         16.6937,  20.0624,  21.0491,  20.0134,  23.0473,  20.1628,  20.0862,\n",
            "         21.3777,  21.3513,  22.2739,  22.8521,  22.4144,  28.6044,  24.2597,\n",
            "         29.9020,  25.4927,  27.0707,  31.9253,  27.2471,  26.2500,  33.9902,\n",
            "         28.7896,  32.5945,  34.0490,  31.6875,  29.4450,  29.4060,  30.6020,\n",
            "         37.0120,  48.1053,  33.4597,  35.1445,  35.7544,  39.0811,  35.9896,\n",
            "         35.3054,  36.7254,  37.4187,  40.4857,  37.2802,  36.9551,  42.9736,\n",
            "         47.9623,  42.8532,  41.9808,  40.9772,  40.0723,  47.4184,  40.2504,\n",
            "         50.5152,  47.1075,  53.2814,  48.2910,  43.2467,  47.2761,  44.6216,\n",
            "         48.1712,  47.6787,  52.0565,  45.1480,  46.4075,  51.1896,  48.7538,\n",
            "         49.3735,  53.1580,  54.0786,  58.2028,  50.4379,  53.9163,  50.4378,\n",
            "         53.9932,  68.6778,  55.5158,  54.5747,  52.8597,  55.5766,  56.7473,\n",
            "         55.0975,  58.7558,  58.5671,  60.7874,  63.3938,  65.1635,  57.1139,\n",
            "         58.5218,  61.2195,  77.5607,  61.9619,  63.4326,  62.3321,  63.9907,\n",
            "         68.4060,  65.7502,  64.5147,  61.7985,  65.5076,  66.6765,  68.9901,\n",
            "         65.4650,  66.3650,  68.9740,  74.8136,  71.7561,  67.1796,  79.5876,\n",
            "         68.8977,  68.2706,  72.6751,  70.8184,  71.0468,  75.0659,  74.8985,\n",
            "         77.6951,  87.2409,  88.6996,  76.8781,  75.6351,  79.4966,  76.3393,\n",
            "         78.6865,  84.9027,  85.1983,  83.1953,  79.8810,  77.8522,  81.4316,\n",
            "         83.3461,  91.6726,  81.4213,  84.9584,  82.4878,  81.4240,  84.9743,\n",
            "         82.4873,  83.4047,  88.4432,  90.7298,  87.7105,  83.9862,  87.4467,\n",
            "         91.9145,  89.2529,  88.8731,  87.0935,  95.6011,  90.6011,  88.3165,\n",
            "         94.3342,  94.6763,  89.9863,  93.4624,  96.9569,  92.5034,  97.1634,\n",
            "         99.0613,  98.7846,  97.6836, 100.9279, 101.5499,  99.1015,  95.1483,\n",
            "         98.5459,  99.7978,  97.7992, 100.1299, 106.7158, 105.7866, 102.8783,\n",
            "        100.7116, 102.4871, 100.2373, 107.5332])\n",
            "off-diagonal: tensor([ 2.1561,  0.8356,  1.8905,  1.9471, -0.5812, -1.8005,  5.5045,  6.4533,\n",
            "         6.0126, -0.7878,  0.6732,  3.7811,  0.5661,  3.6158,  1.8308,  0.5412,\n",
            "        -1.8988,  0.0463, -3.3047, -0.1272,  2.6649, -0.5895,  0.3990, -0.8755,\n",
            "        -1.5812, -2.0168,  0.0211,  0.7278, -0.1704,  2.8749, -0.5545,  1.1511,\n",
            "        -0.6699,  0.2271, -0.4084,  1.0607, -1.9935, -0.6758,  1.5470,  0.4885,\n",
            "        -3.3318,  2.3512,  4.2803,  0.6551,  0.3069, -1.2287, -0.2205, -1.2880,\n",
            "        -2.4186,  2.5897,  3.2900,  4.4391,  1.7447,  1.4669, -0.0270,  0.8621,\n",
            "        -0.2329, -3.9188, -0.8260,  3.3326,  1.7781,  1.1977,  0.4779, -3.0603,\n",
            "        -2.1116, -0.0600, -3.6519, -0.8785, -1.4697, -7.6306, -4.3297, -2.5053,\n",
            "        -2.3056, -1.3703,  1.2812, -1.8266, -0.2872,  4.5354, -4.4529,  4.0656,\n",
            "         2.4480,  1.7211,  1.4026,  1.3465,  2.9747,  3.8477,  1.7065,  1.1638,\n",
            "         0.8224, -0.6218, -0.4038, -2.2791, -1.5990,  3.1788,  2.3736,  1.8851,\n",
            "        -0.4668, -0.4145,  3.3440, -2.8523,  1.6405, -0.4613, -1.2849,  1.6073,\n",
            "         0.3553,  0.2303,  3.2353,  2.9766,  0.3748, -3.1231,  2.4575, -1.0708,\n",
            "        -1.1072,  4.7084, -4.1525, -1.3364, -0.8341,  1.6911,  3.9186,  3.6912,\n",
            "        -0.6083, -0.2725,  0.4698, -2.8431, -0.9272, -0.8011,  1.2211, -0.0797,\n",
            "         4.1231,  1.4825,  0.5757, -0.0267,  3.7957, -0.0913, -1.1338, -0.6748,\n",
            "         0.0361,  2.2506,  2.1935, -4.5116,  0.4233,  9.1964,  2.9056, -1.1679,\n",
            "        -0.6812, -0.1849,  0.1119,  0.0422, -1.6729, -3.4463, -0.1889, -1.2710,\n",
            "        -1.1801, -3.8960, -7.7632,  1.2237,  1.1592,  0.6822,  1.0346, -0.9680,\n",
            "         1.9641, -0.1042,  2.0777, -1.9972, -0.1372,  0.6618, -0.4232, -0.8329,\n",
            "        -2.9633, -0.4814, -0.7297, -2.3687, -0.9692, -0.7173,  1.1349,  0.1272,\n",
            "        -0.2264, -0.2941, -0.4670, -1.3993, -0.6547,  0.7451,  4.8437,  1.9086,\n",
            "        -0.0749, -0.3446, -0.4107, -0.9241, -0.0548, -0.1216, -2.0310,  1.0356,\n",
            "         3.5541,  4.1403, -0.5210, -0.5046, -1.2277,  0.3633, -0.1118])\n"
          ]
        }
      ]
    },
    {
      "cell_type": "markdown",
      "source": [
        "## Log Determinants\n",
        "\n",
        "In the dense case, log determinants compute from the Cholesky or LU decompositions depending on whether the matrix is PSD or not, and this runs in time $O(n^3)$.\n",
        "\n",
        "For the iterative case compute log determinants using the formula $\\log\\mathrm{det}(A) = \\mathrm{Tr}(\\log(A))$ combining together the $\\log$ and $\\mathrm{Tr}$ functions discussed above.\n",
        "\n",
        "In the special case where only unbiased estimates (or a small number of significant digits) are required for the given use case, we can leverage [stochastic lanczos quadrature](https://www-users.cse.umn.edu/~saad/PDF/ys-2016-04.pdf) to get an improved convergence rate.\n",
        "\n",
        "This choice is exposed to the user through the `log_alg` vs `trace_alg` options in `logdet` and `slogdet`."
      ],
      "metadata": {
        "id": "0EN4v3xa8jIt"
      }
    },
    {
      "cell_type": "code",
      "source": [
        "print(\"Tr(log(A))\", cola.linalg.logdet(A, trace_alg=cola.Hutch(tol=1e-4), log_alg=cola.Lanczos(tol=1e-4, max_iters=30)))\n",
        "print(\"SLQ:\", cola.linalg.logdet(A, log_alg=cola.Lanczos(tol=1e-3, max_iters=10), trace_alg=cola.Auto()))\n",
        "print(\"Dense:\", cola.linalg.logdet(A))"
      ],
      "metadata": {
        "id": "QkOfGfQl8STD",
        "colab": {
          "base_uri": "https://localhost:8080/",
          "height": 390
        },
        "outputId": "b0d04fa7-1809-4bcb-8ec1-532568a04a9a"
      },
      "execution_count": 37,
      "outputs": [
        {
          "output_type": "error",
          "ename": "AssertionError",
          "evalue": "tolerance chosen too high for stochastic diagonal estimation",
          "traceback": [
            "\u001b[0;31m---------------------------------------------------------------------------\u001b[0m",
            "\u001b[0;31mAssertionError\u001b[0m                            Traceback (most recent call last)",
            "\u001b[0;32m<ipython-input-37-6220fc3193a5>\u001b[0m in \u001b[0;36m<cell line: 1>\u001b[0;34m()\u001b[0m\n\u001b[0;32m----> 1\u001b[0;31m \u001b[0mprint\u001b[0m\u001b[0;34m(\u001b[0m\u001b[0;34m\"Tr(log(A))\"\u001b[0m\u001b[0;34m,\u001b[0m \u001b[0mcola\u001b[0m\u001b[0;34m.\u001b[0m\u001b[0mlinalg\u001b[0m\u001b[0;34m.\u001b[0m\u001b[0mlogdet\u001b[0m\u001b[0;34m(\u001b[0m\u001b[0mA\u001b[0m\u001b[0;34m,\u001b[0m \u001b[0mtrace_alg\u001b[0m\u001b[0;34m=\u001b[0m\u001b[0mcola\u001b[0m\u001b[0;34m.\u001b[0m\u001b[0mHutch\u001b[0m\u001b[0;34m(\u001b[0m\u001b[0mtol\u001b[0m\u001b[0;34m=\u001b[0m\u001b[0;36m1e-4\u001b[0m\u001b[0;34m)\u001b[0m\u001b[0;34m,\u001b[0m \u001b[0mlog_alg\u001b[0m\u001b[0;34m=\u001b[0m\u001b[0mcola\u001b[0m\u001b[0;34m.\u001b[0m\u001b[0mLanczos\u001b[0m\u001b[0;34m(\u001b[0m\u001b[0mtol\u001b[0m\u001b[0;34m=\u001b[0m\u001b[0;36m1e-4\u001b[0m\u001b[0;34m,\u001b[0m \u001b[0mmax_iters\u001b[0m\u001b[0;34m=\u001b[0m\u001b[0;36m30\u001b[0m\u001b[0;34m)\u001b[0m\u001b[0;34m)\u001b[0m\u001b[0;34m)\u001b[0m\u001b[0;34m\u001b[0m\u001b[0;34m\u001b[0m\u001b[0m\n\u001b[0m\u001b[1;32m      2\u001b[0m \u001b[0mprint\u001b[0m\u001b[0;34m(\u001b[0m\u001b[0;34m\"SLQ:\"\u001b[0m\u001b[0;34m,\u001b[0m \u001b[0mcola\u001b[0m\u001b[0;34m.\u001b[0m\u001b[0mlinalg\u001b[0m\u001b[0;34m.\u001b[0m\u001b[0mlogdet\u001b[0m\u001b[0;34m(\u001b[0m\u001b[0mA\u001b[0m\u001b[0;34m,\u001b[0m \u001b[0mlog_alg\u001b[0m\u001b[0;34m=\u001b[0m\u001b[0mcola\u001b[0m\u001b[0;34m.\u001b[0m\u001b[0mLanczos\u001b[0m\u001b[0;34m(\u001b[0m\u001b[0mtol\u001b[0m\u001b[0;34m=\u001b[0m\u001b[0;36m1e-3\u001b[0m\u001b[0;34m,\u001b[0m \u001b[0mmax_iters\u001b[0m\u001b[0;34m=\u001b[0m\u001b[0;36m10\u001b[0m\u001b[0;34m)\u001b[0m\u001b[0;34m,\u001b[0m \u001b[0mtrace_alg\u001b[0m\u001b[0;34m=\u001b[0m\u001b[0mcola\u001b[0m\u001b[0;34m.\u001b[0m\u001b[0mAuto\u001b[0m\u001b[0;34m(\u001b[0m\u001b[0;34m)\u001b[0m\u001b[0;34m)\u001b[0m\u001b[0;34m)\u001b[0m\u001b[0;34m\u001b[0m\u001b[0;34m\u001b[0m\u001b[0m\n\u001b[1;32m      3\u001b[0m \u001b[0mprint\u001b[0m\u001b[0;34m(\u001b[0m\u001b[0;34m\"Dense:\"\u001b[0m\u001b[0;34m,\u001b[0m \u001b[0mcola\u001b[0m\u001b[0;34m.\u001b[0m\u001b[0mlinalg\u001b[0m\u001b[0;34m.\u001b[0m\u001b[0mlogdet\u001b[0m\u001b[0;34m(\u001b[0m\u001b[0mA\u001b[0m\u001b[0;34m)\u001b[0m\u001b[0;34m)\u001b[0m\u001b[0;34m\u001b[0m\u001b[0;34m\u001b[0m\u001b[0m\n",
            "\u001b[0;32m/usr/local/lib/python3.10/dist-packages/cola/linalg/logdet/logdet.py\u001b[0m in \u001b[0;36mlogdet\u001b[0;34m(A, log_alg, trace_alg)\u001b[0m\n\u001b[1;32m     36\u001b[0m         \u001b[0mArray\u001b[0m\u001b[0;34m:\u001b[0m \u001b[0mlogdet\u001b[0m\u001b[0;34m\u001b[0m\u001b[0;34m\u001b[0m\u001b[0m\n\u001b[1;32m     37\u001b[0m     \"\"\"\n\u001b[0;32m---> 38\u001b[0;31m     \u001b[0m_\u001b[0m\u001b[0;34m,\u001b[0m \u001b[0mld\u001b[0m \u001b[0;34m=\u001b[0m \u001b[0mslogdet\u001b[0m\u001b[0;34m(\u001b[0m\u001b[0mA\u001b[0m\u001b[0;34m,\u001b[0m \u001b[0mlog_alg\u001b[0m\u001b[0;34m=\u001b[0m\u001b[0mlog_alg\u001b[0m\u001b[0;34m,\u001b[0m \u001b[0mtrace_alg\u001b[0m\u001b[0;34m=\u001b[0m\u001b[0mtrace_alg\u001b[0m\u001b[0;34m)\u001b[0m\u001b[0;34m\u001b[0m\u001b[0;34m\u001b[0m\u001b[0m\n\u001b[0m\u001b[1;32m     39\u001b[0m     \u001b[0;32mreturn\u001b[0m \u001b[0mld\u001b[0m\u001b[0;34m\u001b[0m\u001b[0;34m\u001b[0m\u001b[0m\n\u001b[1;32m     40\u001b[0m \u001b[0;34m\u001b[0m\u001b[0m\n",
            "\u001b[0;32m/usr/local/lib/python3.10/dist-packages/plum/dispatcher.py\u001b[0m in \u001b[0;36mnew_fn\u001b[0;34m(*args, **kwargs)\u001b[0m\n\u001b[1;32m     91\u001b[0m             \u001b[0mbound\u001b[0m\u001b[0;34m.\u001b[0m\u001b[0mapply_defaults\u001b[0m\u001b[0;34m(\u001b[0m\u001b[0;34m)\u001b[0m\u001b[0;34m\u001b[0m\u001b[0;34m\u001b[0m\u001b[0m\n\u001b[1;32m     92\u001b[0m             \u001b[0mnew_args\u001b[0m \u001b[0;34m=\u001b[0m \u001b[0mlist\u001b[0m\u001b[0;34m(\u001b[0m\u001b[0mbound\u001b[0m\u001b[0;34m.\u001b[0m\u001b[0marguments\u001b[0m\u001b[0;34m.\u001b[0m\u001b[0mvalues\u001b[0m\u001b[0;34m(\u001b[0m\u001b[0;34m)\u001b[0m\u001b[0;34m)\u001b[0m\u001b[0;34m\u001b[0m\u001b[0;34m\u001b[0m\u001b[0m\n\u001b[0;32m---> 93\u001b[0;31m             \u001b[0;32mreturn\u001b[0m \u001b[0mfn\u001b[0m\u001b[0;34m(\u001b[0m\u001b[0;34m*\u001b[0m\u001b[0mnew_args\u001b[0m\u001b[0;34m)\u001b[0m\u001b[0;34m\u001b[0m\u001b[0;34m\u001b[0m\u001b[0m\n\u001b[0m\u001b[1;32m     94\u001b[0m         \u001b[0mfn\u001b[0m\u001b[0;34m.\u001b[0m\u001b[0m_abstract\u001b[0m \u001b[0;34m=\u001b[0m \u001b[0mnew_fn\u001b[0m\u001b[0;34m\u001b[0m\u001b[0;34m\u001b[0m\u001b[0m\n\u001b[1;32m     95\u001b[0m         \u001b[0;32mreturn\u001b[0m \u001b[0mnew_fn\u001b[0m\u001b[0;34m\u001b[0m\u001b[0;34m\u001b[0m\u001b[0m\n",
            "\u001b[0;32m/usr/local/lib/python3.10/dist-packages/plum/function.py\u001b[0m in \u001b[0;36m__call__\u001b[0;34m(self, *args, **kw_args)\u001b[0m\n\u001b[1;32m    442\u001b[0m     \u001b[0;32mdef\u001b[0m \u001b[0m__call__\u001b[0m\u001b[0;34m(\u001b[0m\u001b[0mself\u001b[0m\u001b[0;34m,\u001b[0m \u001b[0;34m*\u001b[0m\u001b[0margs\u001b[0m\u001b[0;34m,\u001b[0m \u001b[0;34m**\u001b[0m\u001b[0mkw_args\u001b[0m\u001b[0;34m)\u001b[0m\u001b[0;34m:\u001b[0m\u001b[0;34m\u001b[0m\u001b[0;34m\u001b[0m\u001b[0m\n\u001b[1;32m    443\u001b[0m         \u001b[0mmethod\u001b[0m\u001b[0;34m,\u001b[0m \u001b[0mreturn_type\u001b[0m \u001b[0;34m=\u001b[0m \u001b[0mself\u001b[0m\u001b[0;34m.\u001b[0m\u001b[0m_resolve_method_with_cache\u001b[0m\u001b[0;34m(\u001b[0m\u001b[0margs\u001b[0m\u001b[0;34m=\u001b[0m\u001b[0margs\u001b[0m\u001b[0;34m)\u001b[0m\u001b[0;34m\u001b[0m\u001b[0;34m\u001b[0m\u001b[0m\n\u001b[0;32m--> 444\u001b[0;31m         \u001b[0;32mreturn\u001b[0m \u001b[0m_convert\u001b[0m\u001b[0;34m(\u001b[0m\u001b[0mmethod\u001b[0m\u001b[0;34m(\u001b[0m\u001b[0;34m*\u001b[0m\u001b[0margs\u001b[0m\u001b[0;34m,\u001b[0m \u001b[0;34m**\u001b[0m\u001b[0mkw_args\u001b[0m\u001b[0;34m)\u001b[0m\u001b[0;34m,\u001b[0m \u001b[0mreturn_type\u001b[0m\u001b[0;34m)\u001b[0m\u001b[0;34m\u001b[0m\u001b[0;34m\u001b[0m\u001b[0m\n\u001b[0m\u001b[1;32m    445\u001b[0m \u001b[0;34m\u001b[0m\u001b[0m\n\u001b[1;32m    446\u001b[0m     def _resolve_method_with_cache(\n",
            "\u001b[0;32m/usr/local/lib/python3.10/dist-packages/cola/linalg/logdet/logdet.py\u001b[0m in \u001b[0;36mslogdet\u001b[0;34m(A, log_alg, trace_alg)\u001b[0m\n\u001b[1;32m    102\u001b[0m \u001b[0;32mdef\u001b[0m \u001b[0mslogdet\u001b[0m\u001b[0;34m(\u001b[0m\u001b[0mA\u001b[0m\u001b[0;34m:\u001b[0m \u001b[0mLinearOperator\u001b[0m\u001b[0;34m,\u001b[0m \u001b[0mlog_alg\u001b[0m\u001b[0;34m:\u001b[0m \u001b[0mLanczos\u001b[0m \u001b[0;34m|\u001b[0m \u001b[0mArnoldi\u001b[0m\u001b[0;34m,\u001b[0m \u001b[0mtrace_alg\u001b[0m\u001b[0;34m:\u001b[0m \u001b[0mAlgorithm\u001b[0m\u001b[0;34m)\u001b[0m\u001b[0;34m:\u001b[0m\u001b[0;34m\u001b[0m\u001b[0;34m\u001b[0m\u001b[0m\n\u001b[1;32m    103\u001b[0m     \u001b[0mlogA\u001b[0m \u001b[0;34m=\u001b[0m \u001b[0mlog\u001b[0m\u001b[0;34m(\u001b[0m\u001b[0mA\u001b[0m\u001b[0;34m,\u001b[0m \u001b[0mlog_alg\u001b[0m\u001b[0;34m)\u001b[0m\u001b[0;34m\u001b[0m\u001b[0;34m\u001b[0m\u001b[0m\n\u001b[0;32m--> 104\u001b[0;31m     \u001b[0mtrlogA\u001b[0m \u001b[0;34m=\u001b[0m \u001b[0mtrace\u001b[0m\u001b[0;34m(\u001b[0m\u001b[0mlogA\u001b[0m\u001b[0;34m,\u001b[0m \u001b[0mtrace_alg\u001b[0m\u001b[0;34m)\u001b[0m\u001b[0;34m\u001b[0m\u001b[0;34m\u001b[0m\u001b[0m\n\u001b[0m\u001b[1;32m    105\u001b[0m     \u001b[0mmag\u001b[0m \u001b[0;34m=\u001b[0m \u001b[0mA\u001b[0m\u001b[0;34m.\u001b[0m\u001b[0mxnp\u001b[0m\u001b[0;34m.\u001b[0m\u001b[0mabs\u001b[0m\u001b[0;34m(\u001b[0m\u001b[0mtrlogA\u001b[0m\u001b[0;34m)\u001b[0m\u001b[0;34m\u001b[0m\u001b[0;34m\u001b[0m\u001b[0m\n\u001b[1;32m    106\u001b[0m     \u001b[0mphase\u001b[0m \u001b[0;34m=\u001b[0m \u001b[0mtrlogA\u001b[0m \u001b[0;34m/\u001b[0m \u001b[0mmag\u001b[0m\u001b[0;34m\u001b[0m\u001b[0;34m\u001b[0m\u001b[0m\n",
            "\u001b[0;32m/usr/local/lib/python3.10/dist-packages/plum/dispatcher.py\u001b[0m in \u001b[0;36mnew_fn\u001b[0;34m(*args, **kwargs)\u001b[0m\n\u001b[1;32m     91\u001b[0m             \u001b[0mbound\u001b[0m\u001b[0;34m.\u001b[0m\u001b[0mapply_defaults\u001b[0m\u001b[0;34m(\u001b[0m\u001b[0;34m)\u001b[0m\u001b[0;34m\u001b[0m\u001b[0;34m\u001b[0m\u001b[0m\n\u001b[1;32m     92\u001b[0m             \u001b[0mnew_args\u001b[0m \u001b[0;34m=\u001b[0m \u001b[0mlist\u001b[0m\u001b[0;34m(\u001b[0m\u001b[0mbound\u001b[0m\u001b[0;34m.\u001b[0m\u001b[0marguments\u001b[0m\u001b[0;34m.\u001b[0m\u001b[0mvalues\u001b[0m\u001b[0;34m(\u001b[0m\u001b[0;34m)\u001b[0m\u001b[0;34m)\u001b[0m\u001b[0;34m\u001b[0m\u001b[0;34m\u001b[0m\u001b[0m\n\u001b[0;32m---> 93\u001b[0;31m             \u001b[0;32mreturn\u001b[0m \u001b[0mfn\u001b[0m\u001b[0;34m(\u001b[0m\u001b[0;34m*\u001b[0m\u001b[0mnew_args\u001b[0m\u001b[0;34m)\u001b[0m\u001b[0;34m\u001b[0m\u001b[0;34m\u001b[0m\u001b[0m\n\u001b[0m\u001b[1;32m     94\u001b[0m         \u001b[0mfn\u001b[0m\u001b[0;34m.\u001b[0m\u001b[0m_abstract\u001b[0m \u001b[0;34m=\u001b[0m \u001b[0mnew_fn\u001b[0m\u001b[0;34m\u001b[0m\u001b[0;34m\u001b[0m\u001b[0m\n\u001b[1;32m     95\u001b[0m         \u001b[0;32mreturn\u001b[0m \u001b[0mnew_fn\u001b[0m\u001b[0;34m\u001b[0m\u001b[0;34m\u001b[0m\u001b[0m\n",
            "\u001b[0;32m/usr/local/lib/python3.10/dist-packages/plum/function.py\u001b[0m in \u001b[0;36m__call__\u001b[0;34m(self, *args, **kw_args)\u001b[0m\n\u001b[1;32m    442\u001b[0m     \u001b[0;32mdef\u001b[0m \u001b[0m__call__\u001b[0m\u001b[0;34m(\u001b[0m\u001b[0mself\u001b[0m\u001b[0;34m,\u001b[0m \u001b[0;34m*\u001b[0m\u001b[0margs\u001b[0m\u001b[0;34m,\u001b[0m \u001b[0;34m**\u001b[0m\u001b[0mkw_args\u001b[0m\u001b[0;34m)\u001b[0m\u001b[0;34m:\u001b[0m\u001b[0;34m\u001b[0m\u001b[0;34m\u001b[0m\u001b[0m\n\u001b[1;32m    443\u001b[0m         \u001b[0mmethod\u001b[0m\u001b[0;34m,\u001b[0m \u001b[0mreturn_type\u001b[0m \u001b[0;34m=\u001b[0m \u001b[0mself\u001b[0m\u001b[0;34m.\u001b[0m\u001b[0m_resolve_method_with_cache\u001b[0m\u001b[0;34m(\u001b[0m\u001b[0margs\u001b[0m\u001b[0;34m=\u001b[0m\u001b[0margs\u001b[0m\u001b[0;34m)\u001b[0m\u001b[0;34m\u001b[0m\u001b[0;34m\u001b[0m\u001b[0m\n\u001b[0;32m--> 444\u001b[0;31m         \u001b[0;32mreturn\u001b[0m \u001b[0m_convert\u001b[0m\u001b[0;34m(\u001b[0m\u001b[0mmethod\u001b[0m\u001b[0;34m(\u001b[0m\u001b[0;34m*\u001b[0m\u001b[0margs\u001b[0m\u001b[0;34m,\u001b[0m \u001b[0;34m**\u001b[0m\u001b[0mkw_args\u001b[0m\u001b[0;34m)\u001b[0m\u001b[0;34m,\u001b[0m \u001b[0mreturn_type\u001b[0m\u001b[0;34m)\u001b[0m\u001b[0;34m\u001b[0m\u001b[0;34m\u001b[0m\u001b[0m\n\u001b[0m\u001b[1;32m    445\u001b[0m \u001b[0;34m\u001b[0m\u001b[0m\n\u001b[1;32m    446\u001b[0m     def _resolve_method_with_cache(\n",
            "\u001b[0;32m/usr/local/lib/python3.10/dist-packages/cola/linalg/trace/diag_trace.py\u001b[0m in \u001b[0;36mtrace\u001b[0;34m(A, alg)\u001b[0m\n\u001b[1;32m    129\u001b[0m \u001b[0;32mdef\u001b[0m \u001b[0mtrace\u001b[0m\u001b[0;34m(\u001b[0m\u001b[0mA\u001b[0m\u001b[0;34m:\u001b[0m \u001b[0mLinearOperator\u001b[0m\u001b[0;34m,\u001b[0m \u001b[0malg\u001b[0m\u001b[0;34m:\u001b[0m \u001b[0mAlgorithm\u001b[0m\u001b[0;34m)\u001b[0m\u001b[0;34m:\u001b[0m\u001b[0;34m\u001b[0m\u001b[0;34m\u001b[0m\u001b[0m\n\u001b[1;32m    130\u001b[0m     \u001b[0;32massert\u001b[0m \u001b[0mA\u001b[0m\u001b[0;34m.\u001b[0m\u001b[0mshape\u001b[0m\u001b[0;34m[\u001b[0m\u001b[0;36m0\u001b[0m\u001b[0;34m]\u001b[0m \u001b[0;34m==\u001b[0m \u001b[0mA\u001b[0m\u001b[0;34m.\u001b[0m\u001b[0mshape\u001b[0m\u001b[0;34m[\u001b[0m\u001b[0;36m1\u001b[0m\u001b[0;34m]\u001b[0m\u001b[0;34m,\u001b[0m \u001b[0;34m\"Can't trace non square matrix\"\u001b[0m\u001b[0;34m\u001b[0m\u001b[0;34m\u001b[0m\u001b[0m\n\u001b[0;32m--> 131\u001b[0;31m     \u001b[0;32mreturn\u001b[0m \u001b[0mdiag\u001b[0m\u001b[0;34m(\u001b[0m\u001b[0mA\u001b[0m\u001b[0;34m,\u001b[0m \u001b[0;36m0\u001b[0m\u001b[0;34m,\u001b[0m \u001b[0malg\u001b[0m\u001b[0;34m)\u001b[0m\u001b[0;34m.\u001b[0m\u001b[0msum\u001b[0m\u001b[0;34m(\u001b[0m\u001b[0;34m)\u001b[0m\u001b[0;34m\u001b[0m\u001b[0;34m\u001b[0m\u001b[0m\n\u001b[0m\u001b[1;32m    132\u001b[0m \u001b[0;34m\u001b[0m\u001b[0m\n\u001b[1;32m    133\u001b[0m \u001b[0;34m\u001b[0m\u001b[0m\n",
            "\u001b[0;32m/usr/local/lib/python3.10/dist-packages/plum/dispatcher.py\u001b[0m in \u001b[0;36mnew_fn\u001b[0;34m(*args, **kwargs)\u001b[0m\n\u001b[1;32m     91\u001b[0m             \u001b[0mbound\u001b[0m\u001b[0;34m.\u001b[0m\u001b[0mapply_defaults\u001b[0m\u001b[0;34m(\u001b[0m\u001b[0;34m)\u001b[0m\u001b[0;34m\u001b[0m\u001b[0;34m\u001b[0m\u001b[0m\n\u001b[1;32m     92\u001b[0m             \u001b[0mnew_args\u001b[0m \u001b[0;34m=\u001b[0m \u001b[0mlist\u001b[0m\u001b[0;34m(\u001b[0m\u001b[0mbound\u001b[0m\u001b[0;34m.\u001b[0m\u001b[0marguments\u001b[0m\u001b[0;34m.\u001b[0m\u001b[0mvalues\u001b[0m\u001b[0;34m(\u001b[0m\u001b[0;34m)\u001b[0m\u001b[0;34m)\u001b[0m\u001b[0;34m\u001b[0m\u001b[0;34m\u001b[0m\u001b[0m\n\u001b[0;32m---> 93\u001b[0;31m             \u001b[0;32mreturn\u001b[0m \u001b[0mfn\u001b[0m\u001b[0;34m(\u001b[0m\u001b[0;34m*\u001b[0m\u001b[0mnew_args\u001b[0m\u001b[0;34m)\u001b[0m\u001b[0;34m\u001b[0m\u001b[0;34m\u001b[0m\u001b[0m\n\u001b[0m\u001b[1;32m     94\u001b[0m         \u001b[0mfn\u001b[0m\u001b[0;34m.\u001b[0m\u001b[0m_abstract\u001b[0m \u001b[0;34m=\u001b[0m \u001b[0mnew_fn\u001b[0m\u001b[0;34m\u001b[0m\u001b[0;34m\u001b[0m\u001b[0m\n\u001b[1;32m     95\u001b[0m         \u001b[0;32mreturn\u001b[0m \u001b[0mnew_fn\u001b[0m\u001b[0;34m\u001b[0m\u001b[0;34m\u001b[0m\u001b[0m\n",
            "\u001b[0;32m/usr/local/lib/python3.10/dist-packages/plum/function.py\u001b[0m in \u001b[0;36m__call__\u001b[0;34m(self, *args, **kw_args)\u001b[0m\n\u001b[1;32m    442\u001b[0m     \u001b[0;32mdef\u001b[0m \u001b[0m__call__\u001b[0m\u001b[0;34m(\u001b[0m\u001b[0mself\u001b[0m\u001b[0;34m,\u001b[0m \u001b[0;34m*\u001b[0m\u001b[0margs\u001b[0m\u001b[0;34m,\u001b[0m \u001b[0;34m**\u001b[0m\u001b[0mkw_args\u001b[0m\u001b[0;34m)\u001b[0m\u001b[0;34m:\u001b[0m\u001b[0;34m\u001b[0m\u001b[0;34m\u001b[0m\u001b[0m\n\u001b[1;32m    443\u001b[0m         \u001b[0mmethod\u001b[0m\u001b[0;34m,\u001b[0m \u001b[0mreturn_type\u001b[0m \u001b[0;34m=\u001b[0m \u001b[0mself\u001b[0m\u001b[0;34m.\u001b[0m\u001b[0m_resolve_method_with_cache\u001b[0m\u001b[0;34m(\u001b[0m\u001b[0margs\u001b[0m\u001b[0;34m=\u001b[0m\u001b[0margs\u001b[0m\u001b[0;34m)\u001b[0m\u001b[0;34m\u001b[0m\u001b[0;34m\u001b[0m\u001b[0m\n\u001b[0;32m--> 444\u001b[0;31m         \u001b[0;32mreturn\u001b[0m \u001b[0m_convert\u001b[0m\u001b[0;34m(\u001b[0m\u001b[0mmethod\u001b[0m\u001b[0;34m(\u001b[0m\u001b[0;34m*\u001b[0m\u001b[0margs\u001b[0m\u001b[0;34m,\u001b[0m \u001b[0;34m**\u001b[0m\u001b[0mkw_args\u001b[0m\u001b[0;34m)\u001b[0m\u001b[0;34m,\u001b[0m \u001b[0mreturn_type\u001b[0m\u001b[0;34m)\u001b[0m\u001b[0;34m\u001b[0m\u001b[0;34m\u001b[0m\u001b[0m\n\u001b[0m\u001b[1;32m    445\u001b[0m \u001b[0;34m\u001b[0m\u001b[0m\n\u001b[1;32m    446\u001b[0m     def _resolve_method_with_cache(\n",
            "\u001b[0;32m/usr/local/lib/python3.10/dist-packages/cola/linalg/trace/diag_trace.py\u001b[0m in \u001b[0;36mdiag\u001b[0;34m(A, k, alg)\u001b[0m\n\u001b[1;32m     42\u001b[0m \u001b[0;34m@\u001b[0m\u001b[0mdispatch\u001b[0m\u001b[0;34m(\u001b[0m\u001b[0mprecedence\u001b[0m\u001b[0;34m=\u001b[0m\u001b[0;34m-\u001b[0m\u001b[0;36m1\u001b[0m\u001b[0;34m)\u001b[0m\u001b[0;34m\u001b[0m\u001b[0;34m\u001b[0m\u001b[0m\n\u001b[1;32m     43\u001b[0m \u001b[0;32mdef\u001b[0m \u001b[0mdiag\u001b[0m\u001b[0;34m(\u001b[0m\u001b[0mA\u001b[0m\u001b[0;34m:\u001b[0m \u001b[0mLinearOperator\u001b[0m\u001b[0;34m,\u001b[0m \u001b[0mk\u001b[0m\u001b[0;34m:\u001b[0m \u001b[0mint\u001b[0m\u001b[0;34m,\u001b[0m \u001b[0malg\u001b[0m\u001b[0;34m:\u001b[0m \u001b[0mHutch\u001b[0m \u001b[0;34m|\u001b[0m \u001b[0mHutchPP\u001b[0m \u001b[0;34m|\u001b[0m \u001b[0mExact\u001b[0m\u001b[0;34m)\u001b[0m\u001b[0;34m:\u001b[0m\u001b[0;34m\u001b[0m\u001b[0;34m\u001b[0m\u001b[0m\n\u001b[0;32m---> 44\u001b[0;31m     \u001b[0;32mreturn\u001b[0m \u001b[0malg\u001b[0m\u001b[0;34m(\u001b[0m\u001b[0mA\u001b[0m\u001b[0;34m,\u001b[0m \u001b[0mk\u001b[0m\u001b[0;34m)\u001b[0m\u001b[0;34m\u001b[0m\u001b[0;34m\u001b[0m\u001b[0m\n\u001b[0m\u001b[1;32m     45\u001b[0m \u001b[0;34m\u001b[0m\u001b[0m\n\u001b[1;32m     46\u001b[0m \u001b[0;34m\u001b[0m\u001b[0m\n",
            "\u001b[0;32m/usr/local/lib/python3.10/dist-packages/cola/linalg/trace/diagonal_estimation.py\u001b[0m in \u001b[0;36m__call__\u001b[0;34m(self, A, k)\u001b[0m\n\u001b[1;32m     54\u001b[0m \u001b[0;34m\u001b[0m\u001b[0m\n\u001b[1;32m     55\u001b[0m     \u001b[0;32mdef\u001b[0m \u001b[0m__call__\u001b[0m\u001b[0;34m(\u001b[0m\u001b[0mself\u001b[0m\u001b[0;34m,\u001b[0m \u001b[0mA\u001b[0m\u001b[0;34m,\u001b[0m \u001b[0mk\u001b[0m\u001b[0;34m)\u001b[0m\u001b[0;34m:\u001b[0m\u001b[0;34m\u001b[0m\u001b[0;34m\u001b[0m\u001b[0m\n\u001b[0;32m---> 56\u001b[0;31m         \u001b[0;32mreturn\u001b[0m \u001b[0mhutchinson_diag_estimate\u001b[0m\u001b[0;34m(\u001b[0m\u001b[0mA\u001b[0m\u001b[0;34m,\u001b[0m \u001b[0mk\u001b[0m\u001b[0;34m,\u001b[0m \u001b[0;34m**\u001b[0m\u001b[0mself\u001b[0m\u001b[0;34m.\u001b[0m\u001b[0m__dict__\u001b[0m\u001b[0;34m)\u001b[0m\u001b[0;34m[\u001b[0m\u001b[0;36m0\u001b[0m\u001b[0;34m]\u001b[0m\u001b[0;34m\u001b[0m\u001b[0;34m\u001b[0m\u001b[0m\n\u001b[0m\u001b[1;32m     57\u001b[0m \u001b[0;34m\u001b[0m\u001b[0m\n\u001b[1;32m     58\u001b[0m \u001b[0;34m\u001b[0m\u001b[0m\n",
            "\u001b[0;32m/usr/local/lib/python3.10/dist-packages/cola/linalg/trace/diagonal_estimation.py\u001b[0m in \u001b[0;36mhutchinson_diag_estimate\u001b[0;34m(A, k, bs, tol, max_iters, pbar, rand, key)\u001b[0m\n\u001b[1;32m    175\u001b[0m     \u001b[0;31m# lazily create chunks of the identity matrix of size bs\u001b[0m\u001b[0;34m\u001b[0m\u001b[0;34m\u001b[0m\u001b[0m\n\u001b[1;32m    176\u001b[0m     \u001b[0mxnp\u001b[0m \u001b[0;34m=\u001b[0m \u001b[0mA\u001b[0m\u001b[0;34m.\u001b[0m\u001b[0mxnp\u001b[0m\u001b[0;34m\u001b[0m\u001b[0;34m\u001b[0m\u001b[0m\n\u001b[0;32m--> 177\u001b[0;31m     \u001b[0;32massert\u001b[0m \u001b[0mtol\u001b[0m \u001b[0;34m>\u001b[0m \u001b[0;36m1e-3\u001b[0m\u001b[0;34m,\u001b[0m \u001b[0;34m\"tolerance chosen too high for stochastic diagonal estimation\"\u001b[0m\u001b[0;34m\u001b[0m\u001b[0;34m\u001b[0m\u001b[0m\n\u001b[0m\u001b[1;32m    178\u001b[0m     \u001b[0;32massert\u001b[0m \u001b[0mrand\u001b[0m \u001b[0;32min\u001b[0m \u001b[0;34m[\u001b[0m\u001b[0;34m'normal'\u001b[0m\u001b[0;34m,\u001b[0m \u001b[0;34m'rademacher'\u001b[0m\u001b[0;34m]\u001b[0m\u001b[0;34m,\u001b[0m \u001b[0;34m\"rand must be 'normal' or 'rademacher'\"\u001b[0m\u001b[0;34m\u001b[0m\u001b[0;34m\u001b[0m\u001b[0m\n\u001b[1;32m    179\u001b[0m     \u001b[0mkey\u001b[0m \u001b[0;34m=\u001b[0m \u001b[0mxnp\u001b[0m\u001b[0;34m.\u001b[0m\u001b[0mPRNGKey\u001b[0m\u001b[0;34m(\u001b[0m\u001b[0;36m42\u001b[0m\u001b[0;34m)\u001b[0m \u001b[0;32mif\u001b[0m \u001b[0mkey\u001b[0m \u001b[0;32mis\u001b[0m \u001b[0;32mNone\u001b[0m \u001b[0;32melse\u001b[0m \u001b[0mkey\u001b[0m\u001b[0;34m\u001b[0m\u001b[0;34m\u001b[0m\u001b[0m\n",
            "\u001b[0;31mAssertionError\u001b[0m: tolerance chosen too high for stochastic diagonal estimation"
          ]
        }
      ]
    },
    {
      "cell_type": "markdown",
      "source": [
        "And we can do this for non PSD matrices too using $\\log \\mathrm{det}(A) = \\frac{1}{2}\\log \\mathrm{det}(A^TA)$, however the phase (sign) is lost in this process."
      ],
      "metadata": {
        "id": "P2uLr3BH_y55"
      }
    },
    {
      "cell_type": "code",
      "source": [
        "print(\"iterative:\", cola.linalg.slogdet(B, log_alg=cola.Arnoldi(tol=1e-3, max_iters=10)))\n",
        "print(\"Dense:\", cola.linalg.slogdet(B, log_alg=cola.LU()))"
      ],
      "metadata": {
        "id": "oM7YmQfK_pXL",
        "colab": {
          "base_uri": "https://localhost:8080/"
        },
        "outputId": "d4bb7122-9b12-4d0d-8668-201464d14081"
      },
      "execution_count": 38,
      "outputs": [
        {
          "output_type": "stream",
          "name": "stdout",
          "text": [
            "iterative: (tensor(1.0000+0.0007j), tensor(732.0270))\n",
            "Dense: (tensor(-1.), tensor(731.0778))\n"
          ]
        }
      ]
    },
    {
      "cell_type": "markdown",
      "source": [
        "## Eigendecomposition\n",
        "\n",
        "Another popular linear algebra operation is to find an approximation for the eigenvalues or eigenvectors of given linear operator $A$. That is, find $V$ and $\\Lambda$ such that $AV = V \\Lambda$."
      ],
      "metadata": {
        "id": "5bkMg89yARrK"
      }
    },
    {
      "cell_type": "code",
      "source": [
        "eig_vals, eig_vecs = cola.eig(A, k=A.shape[0])"
      ],
      "metadata": {
        "id": "9nKV4jN8_61b"
      },
      "execution_count": 39,
      "outputs": []
    },
    {
      "cell_type": "markdown",
      "source": [
        "Nevertheless, when $A$ is quite large we cannot afford the time or memory for a full decomposition. We could thus use an iterative eigenvalue algorithm such as power iteration (if we only want the maximum eigenvalue), Lanczos (if we have a symmetric operator) or Arnoldi (which works in general). Let's see how to run all of those options.\n",
        "So to compute the maximum eigenvalue we could run the following code."
      ],
      "metadata": {
        "id": "0dBfLLU0ArNW"
      }
    },
    {
      "cell_type": "code",
      "source": [
        "from cola.linalg.eig.power_iteration import power_iteration\n",
        "_, eig_max, _ = power_iteration(A, tol=1e-4)\n",
        "print(f\"eigmax: {eig_max}\")\n",
        "print(f\"eig_vals[0]: {eig_vals[-1]}\")"
      ],
      "metadata": {
        "id": "0H6DOjlyAd9r",
        "colab": {
          "base_uri": "https://localhost:8080/"
        },
        "outputId": "e222f476-d797-410b-d977-bf1256ea6870"
      },
      "execution_count": 40,
      "outputs": [
        {
          "output_type": "stream",
          "name": "stdout",
          "text": [
            "eigmax: 287.3038024902344\n",
            "eig_vals[0]: 287.5224609375\n"
          ]
        }
      ]
    },
    {
      "cell_type": "markdown",
      "source": [
        "Indeed we recover the largest eigenvalue. The algorithm that `CoLA` ran in this case was the power method which runs in time $O(\\tau\\frac{1}{\\Delta} \\log 1/\\epsilon)$ to compute the top eigenvalue. But we can achieve an accelerated convergence rate $O(\\tau\\frac{1}{\\sqrt{\\Delta}} \\log 1/\\epsilon)$ if we use Lanczos and Arnoldi, however this comes at an additional memory cost of $O(nm+m^2)$ where $m$ is `max_iters`."
      ],
      "metadata": {
        "id": "KsW7V8k1A_b_"
      }
    },
    {
      "cell_type": "code",
      "source": [
        "e0, v0 = cola.eig(A, k=A.shape[0], which=\"SM\", alg=cola.Lanczos(tol=1e-4, max_iters=15))\n",
        "print(f\"{e0[-1]}\")"
      ],
      "metadata": {
        "id": "PIwXWJW2A0K6",
        "colab": {
          "base_uri": "https://localhost:8080/"
        },
        "outputId": "9e4e8ca3-8758-4778-ccaf-ebc02716f2fc"
      },
      "execution_count": 41,
      "outputs": [
        {
          "output_type": "stream",
          "name": "stdout",
          "text": [
            "287.5223083496094\n"
          ]
        }
      ]
    },
    {
      "cell_type": "markdown",
      "source": [
        "# Implementing new Linear Operators and Dispatch Rules\n",
        "\n",
        "Implementing new linear operators in CoLA requires specifying a `shape`, `dtype`, and `matmat` functions.\n",
        "Llike with scipy LinearOperator, there are two ways of doing so."
      ],
      "metadata": {
        "id": "zhmHqaDmBiNC"
      }
    },
    {
      "cell_type": "markdown",
      "source": [
        "### Calling LinearOperator as a constructor\n",
        "\n",
        "For a one off, a quick and dirty approach is to use the LinearOperator constructor directly. Let's assume we have some matrix vector multiply which is problem specific and not very generalizable.\n",
        "\n"
      ],
      "metadata": {
        "id": "l4zWxYCgFmsC"
      }
    },
    {
      "cell_type": "code",
      "source": [
        "def weird_matmat(x):\n",
        "    # x of shape (100, d)\n",
        "    return (x[2]+x[3])*torch.ones(5,1) - 3*x[3:]\n",
        "\n",
        "shape = (5,8)\n",
        "A = cola.ops.LinearOperator(torch.float32, shape, matmat=weird_matmat)\n",
        "print(A.to_dense())"
      ],
      "metadata": {
        "id": "wIzj_9xoBDKD",
        "colab": {
          "base_uri": "https://localhost:8080/"
        },
        "outputId": "61cb11e4-09f1-4ed1-8474-c3a5f08843e6"
      },
      "execution_count": 42,
      "outputs": [
        {
          "output_type": "stream",
          "name": "stdout",
          "text": [
            "tensor([[ 0.,  0.,  1., -2.,  0.,  0.,  0.,  0.],\n",
            "        [ 0.,  0.,  1.,  1., -3.,  0.,  0.,  0.],\n",
            "        [ 0.,  0.,  1.,  1.,  0., -3.,  0.,  0.],\n",
            "        [ 0.,  0.,  1.,  1.,  0.,  0., -3.,  0.],\n",
            "        [ 0.,  0.,  1.,  1.,  0.,  0.,  0., -3.]])\n"
          ]
        }
      ]
    },
    {
      "cell_type": "markdown",
      "source": [
        "### Subclassing LinearOperator\n",
        "\n",
        "For a more extendible approach, and one that can leverage dispatch rules, recommend subclassing LinearOperator and defining the `__init__` calling `super().__init__(dtype,shape)`and defining a new `matmat` method."
      ],
      "metadata": {
        "id": "kfyIBdoVGIUy"
      }
    },
    {
      "cell_type": "code",
      "source": [
        "# define a Diagonal LinearOperator\n",
        "class MyDiagonal(cola.ops.LinearOperator):\n",
        "    \"\"\" Diagonal LinearOperator. O(n) time and space matmuls\"\"\"\n",
        "    def __init__(self, diag):\n",
        "        super().__init__(dtype=diag.dtype, shape=(len(diag), ) * 2)\n",
        "        self.diag = diag\n",
        "\n",
        "    def _matmat(self, X):\n",
        "        return self.diag[:, None] * X\n",
        "\n",
        "    def __str__(self):\n",
        "        return f\"MyDiagonal({self.diag})\""
      ],
      "metadata": {
        "id": "uCFtPZ57GFLl"
      },
      "execution_count": 43,
      "outputs": []
    },
    {
      "cell_type": "code",
      "source": [
        "A = MyDiagonal(jnp.arange(1,5))\n",
        "print(A.to_dense())"
      ],
      "metadata": {
        "id": "URy2CmXXGm8j",
        "colab": {
          "base_uri": "https://localhost:8080/"
        },
        "outputId": "e15d8edd-4345-4135-f0c5-4ae26ec46062"
      },
      "execution_count": 44,
      "outputs": [
        {
          "output_type": "stream",
          "name": "stdout",
          "text": [
            "[[1 0 0 0]\n",
            " [0 2 0 0]\n",
            " [0 0 3 0]\n",
            " [0 0 0 4]]\n"
          ]
        }
      ]
    },
    {
      "cell_type": "markdown",
      "source": [
        "# Defining New Dispatch Rules\n",
        "\n",
        "Implementing new dispatch rules for existing functions is easy, simply wrap the new function with a `cola.dispatch` decorator and define the functionality for a given `LinearOperator` and a given `Algorithm`. If you don't have a specific algorithm to use (as below) simply ensure that `alg: Algorithm` is part of the function's signature.\n"
      ],
      "metadata": {
        "id": "tr6jWLZOHBSq"
      }
    },
    {
      "cell_type": "code",
      "source": [
        "# extend inverse for the `MyDiagonal` object\n",
        "from cola.linalg import inv\n",
        "from cola.linalg.algorithm_base import Algorithm\n",
        "\n",
        "@cola.dispatch\n",
        "def inv(A: MyDiagonal, alg: Algorithm):\n",
        "    print(\"Called my inverse:\")\n",
        "    return MyDiagonal(1 / A.diag)\n",
        "\n",
        "\n",
        "A = MyDiagonal(torch.arange(1, 500000))\n",
        "invA = inv(A)\n",
        "print(invA)"
      ],
      "metadata": {
        "id": "6cJtGeN_G1w0",
        "colab": {
          "base_uri": "https://localhost:8080/"
        },
        "outputId": "dee06632-2cbe-4894-ef9e-67c327d08827"
      },
      "execution_count": 45,
      "outputs": [
        {
          "output_type": "stream",
          "name": "stdout",
          "text": [
            "Called my inverse:\n",
            "MyDiagonal(tensor([1.0000e+00, 5.0000e-01, 3.3333e-01,  ..., 2.0000e-06, 2.0000e-06,\n",
            "        2.0000e-06]))\n"
          ]
        }
      ]
    },
    {
      "cell_type": "code",
      "source": [
        "# override existing functionality\n",
        "\"\"\"@cola.dispatch\n",
        "def inv(A: cola.ops.Dense, alg: Algorithm):\n",
        "    print(\"Overrided the dense inverse\")\n",
        "    return cola.ops.Dense(torch.linalg.inv(A.to_dense()))\n",
        "\n",
        "\n",
        "A = cola.ops.Dense(torch.arange(1, 5).reshape(2, 2).float())\n",
        "invA = inv(A)\n",
        "print(invA.to_dense())\"\"\""
      ],
      "metadata": {
        "id": "sYEBoGv8Hh7t",
        "colab": {
          "base_uri": "https://localhost:8080/",
          "height": 72
        },
        "outputId": "3a16ecc4-c641-4c0a-c636-7868ed9e6f38"
      },
      "execution_count": 46,
      "outputs": [
        {
          "output_type": "execute_result",
          "data": {
            "text/plain": [
              "'@cola.dispatch\\ndef inv(A: cola.ops.Dense, alg: Algorithm):\\n    print(\"Overrided the dense inverse\")\\n    return cola.ops.Dense(torch.linalg.inv(A.to_dense()))\\n\\n\\nA = cola.ops.Dense(torch.arange(1, 5).reshape(2, 2).float())\\ninvA = inv(A)\\nprint(invA.to_dense())'"
            ],
            "application/vnd.google.colaboratory.intrinsic+json": {
              "type": "string"
            }
          },
          "metadata": {},
          "execution_count": 46
        }
      ]
    },
    {
      "cell_type": "markdown",
      "source": [
        "Implement entirely new linear algebra functions on existing objects, just make sure to have a base case."
      ],
      "metadata": {
        "id": "mnc4QSS5L39P"
      }
    },
    {
      "cell_type": "code",
      "source": [
        "# define a rowsum function that sums the rows of a LinearOperator\n",
        "@cola.dispatch\n",
        "def rowsum(A: cola.ops.LinearOperator):\n",
        "    print(\"dispatched base case\")\n",
        "    return A @ A.xnp.ones(A.shape[:1], dtype=A.dtype, device=A.device)\n",
        "\n",
        "\n",
        "@cola.dispatch\n",
        "def rowsum(A: MyDiagonal):\n",
        "    print(\"dispatched on MyDiagonal\")\n",
        "    return A.diag\n",
        "\n",
        "\n",
        "A = MyDiagonal(torch.arange(5))\n",
        "print(rowsum(A))"
      ],
      "metadata": {
        "id": "3ZJAmdbfH1bs",
        "colab": {
          "base_uri": "https://localhost:8080/"
        },
        "outputId": "19c69c48-7c13-4684-a481-f056b1b53dc7"
      },
      "execution_count": 47,
      "outputs": [
        {
          "output_type": "stream",
          "name": "stdout",
          "text": [
            "dispatched on MyDiagonal\n",
            "tensor([0, 1, 2, 3, 4])\n"
          ]
        }
      ]
    },
    {
      "cell_type": "code",
      "source": [
        "print(rowsum(cola.ops.Dense(torch.arange(4).reshape(2, 2))))"
      ],
      "metadata": {
        "colab": {
          "base_uri": "https://localhost:8080/"
        },
        "id": "3r1kNFpPMQ20",
        "outputId": "c14f12d2-39e7-43b3-86ec-7abd5a77f558"
      },
      "execution_count": 48,
      "outputs": [
        {
          "output_type": "stream",
          "name": "stdout",
          "text": [
            "dispatched base case\n",
            "tensor([1, 5])\n"
          ]
        }
      ]
    },
    {
      "cell_type": "code",
      "source": [],
      "metadata": {
        "id": "N_YPb78iMX5j"
      },
      "execution_count": 48,
      "outputs": []
    },
    {
      "cell_type": "markdown",
      "source": [
        "# Accessing Lower Level Algorithms (CG, Lanczos, Arnoldi, etc)"
      ],
      "metadata": {
        "id": "yFXXAt52NIco"
      }
    },
    {
      "cell_type": "code",
      "source": [
        "# autoreload\n",
        "%load_ext autoreload\n",
        "%autoreload 2\n",
        "\n",
        "import time\n",
        "import torch\n",
        "import cola\n",
        "import jax.numpy as jnp\n",
        "import warnings\n",
        "\n",
        "warnings.filterwarnings('ignore')"
      ],
      "metadata": {
        "id": "_V0BA7IONwWI"
      },
      "execution_count": 49,
      "outputs": []
    },
    {
      "cell_type": "code",
      "source": [
        "# example matrix with a rapidly decaying spectrum\n",
        "from cola.linalg.eig.power_iteration import power_iteration\n",
        "N = 3_000\n",
        "x = torch.linspace(-1, 1, N)\n",
        "C = cola.lazify(torch.exp(-(x[None] - x[:, None])**2 / 2))\n",
        "_, eigmax, _ = power_iteration(C, tol=1e-2)\n",
        "C = C + 1e-4 * eigmax * cola.ops.I_like(C)"
      ],
      "metadata": {
        "id": "8Q7V-yigO0d0"
      },
      "execution_count": 50,
      "outputs": []
    },
    {
      "cell_type": "markdown",
      "source": [
        "Run CG, GMRES to perform solves, or Lanczos and Arnoldi for decompositions to compute $f(A)v$ for a vector $v$ or for estimating the extremal eigenvalues."
      ],
      "metadata": {
        "id": "1iJm3n9tPD-T"
      }
    },
    {
      "cell_type": "code",
      "source": [
        "y = torch.randn(C.shape[-1])\n",
        "sol, info = cola.CG(tol=1e-4, pbar=True)(C, y)\n",
        "sol1, info1 = cola.GMRES(tol=1e-4, pbar=True)(C, y)\n",
        "Q1, T, info2 = cola.Lanczos(pbar=True, tol=1e-4, max_iters=1000)(C)\n",
        "Q2, H, info3 = cola.Arnoldi(pbar=True, tol=1e-4, max_iters=1000)(C)"
      ],
      "metadata": {
        "colab": {
          "base_uri": "https://localhost:8080/",
          "height": 145,
          "referenced_widgets": [
            "751944a37a6a4e7388ba7e6e72ed2cd1",
            "e0826360a3464b19b80c80ae52daf2e7",
            "89595d06fa704b82aa5017a27cb8c5f0",
            "44a67d23b2df40129f0d0b483fa06d82",
            "b74ba13d663244f38f8108e35c29ec46",
            "1a6ca3412d164d2baddd7e375df192df",
            "f97a8cc6116e45f9a632ec1d51f12eef",
            "a81df46c3d854c2da881335df858f8ec",
            "cb0f81fd389d48b392309e03b393af56",
            "a93cf408f1a44562817f005cb75b0490",
            "ed4e1a59842e4a9fb99dbfd3a004bd38",
            "8d05653243a740f8b794dde3975247b8",
            "677be1bb3da9415794efd3074c6d1743",
            "239d9de865214c7bbca5bc01b7905e45",
            "ea2f49eb383a4cbd8c07a845031e33cf",
            "287e565b72ff47a19046f89e5671ed59",
            "bb0251b3cbf640a68d47efa3a69fc11e",
            "96e31c6c4b1e4dbea429ead65e0a4a1c",
            "03b3c9d746dc44d38b8436aca2a2b8fa",
            "21d4a7d5c6814e669ba1a96b955c8a20",
            "87d777a9305a4fc88ba885dfd2d41479",
            "d2090560d47842f4a367dce7ea6350f9",
            "7e6d0be829424aa394f7f101cbf030c0",
            "900a023838894caf90e74f34f59867f8",
            "962e91d6964949dd917514a48d5be313",
            "3920f63362be49e89cc44d32dff42d95",
            "bd1a5e49449c443caa55e0c90297fb40",
            "88ca3077f0a04259abfd7b4617407344",
            "1fd224f92ada48458f3c3a2d5c0b0bac",
            "6c6504bf93524dcfbd81fd18bfa8eeb4",
            "7789512683ab4039a7ef521860d65a1c",
            "62b622f29d1344f0841d195b03223a80",
            "e7e7fd7f794e4f6e90f74f0e52575927",
            "b2adba21d0714a358d0db07764507190",
            "55a49cd851654c12a90fdade641dc0ee",
            "f097ecd06eb941079e8d041349c4a968",
            "657ac82d670f47ed8ee443f2b06de56f",
            "6a3477ddd7f2440592517a0f48505059",
            "25c9a109e09d437f884adb7920bbe788",
            "6001221dc03745e5adf900ae9e7d195f",
            "c9900b4b354946f3a2c159bba096fa99",
            "2fe0dc270cd54eb6b09dc696315f1a86",
            "4dcff220d4864f109c891efde8660e66",
            "a293864d0ea04275892dcba54f9a9275"
          ]
        },
        "id": "tJlz8BZSO_58",
        "outputId": "8c320f6e-ed8c-472a-aa40-f527c484a679"
      },
      "execution_count": 51,
      "outputs": [
        {
          "output_type": "display_data",
          "data": {
            "text/plain": [
              "Running body_fun:   0%|          | 0/100 [00:00<?, ?it/s]"
            ],
            "application/vnd.jupyter.widget-view+json": {
              "version_major": 2,
              "version_minor": 0,
              "model_id": "751944a37a6a4e7388ba7e6e72ed2cd1"
            }
          },
          "metadata": {}
        },
        {
          "output_type": "display_data",
          "data": {
            "text/plain": [
              "Running body_fun:   0%|          | 0/100 [00:00<?, ?it/s]"
            ],
            "application/vnd.jupyter.widget-view+json": {
              "version_major": 2,
              "version_minor": 0,
              "model_id": "8d05653243a740f8b794dde3975247b8"
            }
          },
          "metadata": {}
        },
        {
          "output_type": "display_data",
          "data": {
            "text/plain": [
              "Running body_fun:   0%|          | 0/100 [00:00<?, ?it/s]"
            ],
            "application/vnd.jupyter.widget-view+json": {
              "version_major": 2,
              "version_minor": 0,
              "model_id": "7e6d0be829424aa394f7f101cbf030c0"
            }
          },
          "metadata": {}
        },
        {
          "output_type": "display_data",
          "data": {
            "text/plain": [
              "Running body_fun:   0%|          | 0/100 [00:00<?, ?it/s]"
            ],
            "application/vnd.jupyter.widget-view+json": {
              "version_major": 2,
              "version_minor": 0,
              "model_id": "b2adba21d0714a358d0db07764507190"
            }
          },
          "metadata": {}
        }
      ]
    },
    {
      "cell_type": "markdown",
      "source": [
        "Information on the convergence criteria, number of iterations used, and the time per iteration is returned in the info dictionary. We can also use `pbar=True` to track the convergence with a tqdm progressbar."
      ],
      "metadata": {
        "id": "Uu1rn8UvPsie"
      }
    },
    {
      "cell_type": "code",
      "source": [
        "print(info)"
      ],
      "metadata": {
        "colab": {
          "base_uri": "https://localhost:8080/"
        },
        "id": "o__k63jtPaDL",
        "outputId": "1b3b6a98-4d49-4ec7-903a-e00785a2a0aa"
      },
      "execution_count": 52,
      "outputs": [
        {
          "output_type": "stream",
          "name": "stdout",
          "text": [
            "{'iterations': 14, 'errors': array([3.90765038e+01, 2.12092066e+00, 3.08053643e-01, 1.65023232e+00,\n",
            "       6.37745857e-02, 6.14342988e-01, 2.24525020e-01, 2.42476381e-04,\n",
            "       2.55159423e-04, 3.96560133e-03, 5.89033496e-03, 4.44327525e-05,\n",
            "       4.44327525e-05]), 'iteration_time': 0.006042838096618652}\n"
          ]
        }
      ]
    },
    {
      "cell_type": "code",
      "source": [
        "eigs = cola.eig(cola.SelfAdjoint(C), k=C.shape[0])[0]\n",
        "# plot the convergence criteria for these different algorithms\n",
        "import matplotlib.pyplot as plt\n",
        "plt.rcParams['font.size'] = 20\n",
        "algorithms = [('CG', info), ('Lanczos', info2), ('Arnoldi', info3)]\n",
        "fig, axs = plt.subplots(1, 4, figsize=(20, 5))\n",
        "for i, (name, info) in enumerate(algorithms):\n",
        "    axs[i].plot(info['errors'])\n",
        "    axs[i].set_yscale('log')\n",
        "    axs[i].set_title(f'{name} Convergence')\n",
        "    axs[i].set_xlabel('Iteration')\n",
        "    axs[i].set_ylabel('Stopping Criteria')\n",
        "\n",
        "axs[3].plot(eigs)\n",
        "axs[3].set_yscale('log')\n",
        "axs[3].set_title('Spectrum of the Matrix')\n",
        "axs[3].set_xlabel('Index')\n",
        "axs[3].set_ylabel('Eigenvalue')\n",
        "\n",
        "plt.tight_layout()\n",
        "plt.show()"
      ],
      "metadata": {
        "colab": {
          "base_uri": "https://localhost:8080/",
          "height": 207
        },
        "id": "s848wovkPzAL",
        "outputId": "d3dfad57-59e8-42c5-d7f8-2750fab6814c"
      },
      "execution_count": 53,
      "outputs": [
        {
          "output_type": "display_data",
          "data": {
            "text/plain": [
              "<Figure size 2000x500 with 4 Axes>"
            ],
            "image/png": "[encoded data removed]"
          },
          "metadata": {}
        }
      ]
    },
    {
      "cell_type": "markdown",
      "source": [
        "For CG, the residual $\\|Ax-b\\|$ is the stopping criteria, whereas for Lanczos and Arnoldi it is diagonal entries in the Tridiagonal and Upper Hessenberg matrices respectively.\n",
        "\n",
        "One tricky thing is that if you `jit` the algorithm or a function containing the algorithm, then the info dict will no longer be populated as jitted methods must always return arrays of the same shape. (though the progress bar will still be updated)"
      ],
      "metadata": {
        "id": "B-CZohHcQ-QI"
      }
    },
    {
      "cell_type": "code",
      "source": [
        "import jax\n",
        "import cola\n",
        "\n",
        "C_jax = cola.lazify(jnp.array(C.to_dense()))\n",
        "y_jax = jnp.array(y)\n",
        "\n",
        "\n",
        "def mycg(C, y):\n",
        "    return cola.CG(tol=1e-4, pbar=True)(C, y)\n",
        "\n",
        "\n",
        "solj, infoj = jax.jit(mycg)(C_jax, y_jax)"
      ],
      "metadata": {
        "id": "gCIs3e1YP-dj"
      },
      "execution_count": null,
      "outputs": []
    },
    {
      "cell_type": "code",
      "source": [
        "print(infoj)"
      ],
      "metadata": {
        "colab": {
          "base_uri": "https://localhost:8080/",
          "height": 147
        },
        "id": "vaL6EPJzRGz5",
        "outputId": "80c9f78c-821c-4d9c-da72-67b556aa85ee"
      },
      "execution_count": 1,
      "outputs": [
        {
          "output_type": "error",
          "ename": "NameError",
          "evalue": "name 'infoj' is not defined",
          "traceback": [
            "\u001b[0;31m---------------------------------------------------------------------------\u001b[0m",
            "\u001b[0;31mNameError\u001b[0m                                 Traceback (most recent call last)",
            "\u001b[0;32m<ipython-input-1-103599fad3be>\u001b[0m in \u001b[0;36m<cell line: 1>\u001b[0;34m()\u001b[0m\n\u001b[0;32m----> 1\u001b[0;31m \u001b[0mprint\u001b[0m\u001b[0;34m(\u001b[0m\u001b[0minfoj\u001b[0m\u001b[0;34m)\u001b[0m\u001b[0;34m\u001b[0m\u001b[0;34m\u001b[0m\u001b[0m\n\u001b[0m",
            "\u001b[0;31mNameError\u001b[0m: name 'infoj' is not defined"
          ]
        }
      ]
    },
    {
      "cell_type": "code",
      "source": [],
      "metadata": {
        "id": "2RpNL1NuSIa7"
      },
      "execution_count": null,
      "outputs": []
    }
  ]
}